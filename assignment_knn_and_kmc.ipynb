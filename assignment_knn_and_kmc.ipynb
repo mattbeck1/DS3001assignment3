{
  "cells": [
    {
      "cell_type": "markdown",
      "metadata": {
        "id": "LD87S1j5yX0H"
      },
      "source": [
        "## Assignment 3: $k$ Nearest Neighbor and $k$ Means Clustering\n",
        "\n",
        "## **Do three questions.**\n",
        "\n",
        "`! git clone https://www.github.com/DS3001/knn`"
      ],
      "id": "LD87S1j5yX0H"
    },
    {
      "cell_type": "markdown",
      "metadata": {
        "id": "jM3khD9DyX0M"
      },
      "source": [
        "**Q1.** This question is a case study for $k$ nearest neighbor. The target variable `y` is `Purchase` and the features of interest are `Age` and `AnnualSalary`.\n",
        "\n",
        "1. Load the `./data/car_data.csv` data. Look at the head and dimensions of the data."
      ],
      "id": "jM3khD9DyX0M"
    },
    {
      "cell_type": "code",
      "execution_count": null,
      "metadata": {
        "id": "wJEmUONgyX0N",
        "outputId": "88dae1fb-2e72-43cb-d169-657e04021daf"
      },
      "outputs": [
        {
          "data": {
            "text/html": [
              "<div>\n",
              "<style scoped>\n",
              "    .dataframe tbody tr th:only-of-type {\n",
              "        vertical-align: middle;\n",
              "    }\n",
              "\n",
              "    .dataframe tbody tr th {\n",
              "        vertical-align: top;\n",
              "    }\n",
              "\n",
              "    .dataframe thead th {\n",
              "        text-align: right;\n",
              "    }\n",
              "</style>\n",
              "<table border=\"1\" class=\"dataframe\">\n",
              "  <thead>\n",
              "    <tr style=\"text-align: right;\">\n",
              "      <th></th>\n",
              "      <th>User ID</th>\n",
              "      <th>Gender</th>\n",
              "      <th>Age</th>\n",
              "      <th>AnnualSalary</th>\n",
              "      <th>Purchased</th>\n",
              "    </tr>\n",
              "  </thead>\n",
              "  <tbody>\n",
              "    <tr>\n",
              "      <th>0</th>\n",
              "      <td>385</td>\n",
              "      <td>Male</td>\n",
              "      <td>35</td>\n",
              "      <td>20000</td>\n",
              "      <td>0</td>\n",
              "    </tr>\n",
              "    <tr>\n",
              "      <th>1</th>\n",
              "      <td>681</td>\n",
              "      <td>Male</td>\n",
              "      <td>40</td>\n",
              "      <td>43500</td>\n",
              "      <td>0</td>\n",
              "    </tr>\n",
              "    <tr>\n",
              "      <th>2</th>\n",
              "      <td>353</td>\n",
              "      <td>Male</td>\n",
              "      <td>49</td>\n",
              "      <td>74000</td>\n",
              "      <td>0</td>\n",
              "    </tr>\n",
              "    <tr>\n",
              "      <th>3</th>\n",
              "      <td>895</td>\n",
              "      <td>Male</td>\n",
              "      <td>40</td>\n",
              "      <td>107500</td>\n",
              "      <td>1</td>\n",
              "    </tr>\n",
              "    <tr>\n",
              "      <th>4</th>\n",
              "      <td>661</td>\n",
              "      <td>Male</td>\n",
              "      <td>25</td>\n",
              "      <td>79000</td>\n",
              "      <td>0</td>\n",
              "    </tr>\n",
              "  </tbody>\n",
              "</table>\n",
              "</div>"
            ],
            "text/plain": [
              "   User ID Gender  Age  AnnualSalary  Purchased\n",
              "0      385   Male   35         20000          0\n",
              "1      681   Male   40         43500          0\n",
              "2      353   Male   49         74000          0\n",
              "3      895   Male   40        107500          1\n",
              "4      661   Male   25         79000          0"
            ]
          },
          "execution_count": 3,
          "metadata": {},
          "output_type": "execute_result"
        }
      ],
      "source": [
        "import pandas as pd\n",
        "\n",
        "car_data = pd.read_csv('./data/car_data.csv')\n",
        "car_data.head()"
      ],
      "id": "wJEmUONgyX0N"
    },
    {
      "cell_type": "markdown",
      "metadata": {
        "id": "ZZEF2ywNyX0Q"
      },
      "source": [
        "2. Summarize the variables (`User.ID`, `Gender`, `Age`, `AnnualSalary`, `Purchase`). Are there any missings to clean? Convert the `Gender` categorical variable into a dummy variable that takes the value 0 for male and 1 for female. Create a matrix $X$ of predictors including `Age` and `AnnualSalary`, and an outcome $y$ equaling `Purchase`."
      ],
      "id": "ZZEF2ywNyX0Q"
    },
    {
      "cell_type": "code",
      "execution_count": null,
      "metadata": {
        "id": "YKAHEaSYyX0Q",
        "outputId": "cc1bea68-cf78-45e0-b75e-2eeb9cf23f1f"
      },
      "outputs": [
        {
          "data": {
            "text/html": [
              "<div>\n",
              "<style scoped>\n",
              "    .dataframe tbody tr th:only-of-type {\n",
              "        vertical-align: middle;\n",
              "    }\n",
              "\n",
              "    .dataframe tbody tr th {\n",
              "        vertical-align: top;\n",
              "    }\n",
              "\n",
              "    .dataframe thead th {\n",
              "        text-align: right;\n",
              "    }\n",
              "</style>\n",
              "<table border=\"1\" class=\"dataframe\">\n",
              "  <thead>\n",
              "    <tr style=\"text-align: right;\">\n",
              "      <th></th>\n",
              "      <th>User ID</th>\n",
              "      <th>Age</th>\n",
              "      <th>AnnualSalary</th>\n",
              "      <th>Purchased</th>\n",
              "    </tr>\n",
              "  </thead>\n",
              "  <tbody>\n",
              "    <tr>\n",
              "      <th>count</th>\n",
              "      <td>1000.000000</td>\n",
              "      <td>1000.000000</td>\n",
              "      <td>1000.000000</td>\n",
              "      <td>1000.000000</td>\n",
              "    </tr>\n",
              "    <tr>\n",
              "      <th>mean</th>\n",
              "      <td>500.500000</td>\n",
              "      <td>40.106000</td>\n",
              "      <td>72689.000000</td>\n",
              "      <td>0.402000</td>\n",
              "    </tr>\n",
              "    <tr>\n",
              "      <th>std</th>\n",
              "      <td>288.819436</td>\n",
              "      <td>10.707073</td>\n",
              "      <td>34488.341867</td>\n",
              "      <td>0.490547</td>\n",
              "    </tr>\n",
              "    <tr>\n",
              "      <th>min</th>\n",
              "      <td>1.000000</td>\n",
              "      <td>18.000000</td>\n",
              "      <td>15000.000000</td>\n",
              "      <td>0.000000</td>\n",
              "    </tr>\n",
              "    <tr>\n",
              "      <th>25%</th>\n",
              "      <td>250.750000</td>\n",
              "      <td>32.000000</td>\n",
              "      <td>46375.000000</td>\n",
              "      <td>0.000000</td>\n",
              "    </tr>\n",
              "    <tr>\n",
              "      <th>50%</th>\n",
              "      <td>500.500000</td>\n",
              "      <td>40.000000</td>\n",
              "      <td>72000.000000</td>\n",
              "      <td>0.000000</td>\n",
              "    </tr>\n",
              "    <tr>\n",
              "      <th>75%</th>\n",
              "      <td>750.250000</td>\n",
              "      <td>48.000000</td>\n",
              "      <td>90000.000000</td>\n",
              "      <td>1.000000</td>\n",
              "    </tr>\n",
              "    <tr>\n",
              "      <th>max</th>\n",
              "      <td>1000.000000</td>\n",
              "      <td>63.000000</td>\n",
              "      <td>152500.000000</td>\n",
              "      <td>1.000000</td>\n",
              "    </tr>\n",
              "  </tbody>\n",
              "</table>\n",
              "</div>"
            ],
            "text/plain": [
              "           User ID          Age   AnnualSalary    Purchased\n",
              "count  1000.000000  1000.000000    1000.000000  1000.000000\n",
              "mean    500.500000    40.106000   72689.000000     0.402000\n",
              "std     288.819436    10.707073   34488.341867     0.490547\n",
              "min       1.000000    18.000000   15000.000000     0.000000\n",
              "25%     250.750000    32.000000   46375.000000     0.000000\n",
              "50%     500.500000    40.000000   72000.000000     0.000000\n",
              "75%     750.250000    48.000000   90000.000000     1.000000\n",
              "max    1000.000000    63.000000  152500.000000     1.000000"
            ]
          },
          "execution_count": 15,
          "metadata": {},
          "output_type": "execute_result"
        }
      ],
      "source": [
        "car_data.describe()"
      ],
      "id": "YKAHEaSYyX0Q"
    },
    {
      "cell_type": "code",
      "execution_count": null,
      "metadata": {
        "id": "pNmGSAkVyX0R",
        "outputId": "fc35ec22-7af0-438a-850e-ccfcf6640b1b"
      },
      "outputs": [
        {
          "name": "stdout",
          "output_type": "stream",
          "text": [
            "Total Missings for UserID:  0\n"
          ]
        }
      ],
      "source": [
        "# Check if there are any missing values\n",
        "print(\"Total Missings for UserID: \", sum(car_data['User ID'].isnull()))"
      ],
      "id": "pNmGSAkVyX0R"
    },
    {
      "cell_type": "code",
      "execution_count": null,
      "metadata": {
        "id": "Df7oh2NzyX0R",
        "outputId": "0bf5f178-1296-40ff-9689-23a6938ecca7"
      },
      "outputs": [
        {
          "name": "stdout",
          "output_type": "stream",
          "text": [
            "Total Missings for Age:  0\n"
          ]
        }
      ],
      "source": [
        "print(\"Total Missings for Age: \", sum(car_data['Age'].isnull()))"
      ],
      "id": "Df7oh2NzyX0R"
    },
    {
      "cell_type": "code",
      "execution_count": null,
      "metadata": {
        "id": "NEhodQ0tyX0S",
        "outputId": "e8a84515-d4c8-4342-e153-5acc671ad288"
      },
      "outputs": [
        {
          "name": "stdout",
          "output_type": "stream",
          "text": [
            "Total Missings for AnnualSalary:  0\n"
          ]
        }
      ],
      "source": [
        "print(\"Total Missings for AnnualSalary: \", sum(car_data['AnnualSalary'].isnull()))"
      ],
      "id": "NEhodQ0tyX0S"
    },
    {
      "cell_type": "code",
      "execution_count": null,
      "metadata": {
        "id": "7fAcP59VyX0T",
        "outputId": "1a4325c5-55b5-40bc-9518-0cb39fc3bc7c"
      },
      "outputs": [
        {
          "name": "stdout",
          "output_type": "stream",
          "text": [
            "Total Missings for Purchased:  0\n"
          ]
        }
      ],
      "source": [
        "print(\"Total Missings for Purchased: \", sum(car_data['Purchased'].isnull()))"
      ],
      "id": "7fAcP59VyX0T"
    },
    {
      "cell_type": "code",
      "execution_count": null,
      "metadata": {
        "id": "SadNCiOxyX0T",
        "outputId": "013a3d7b-82c0-4cc0-9779-a2fb34a5eddd"
      },
      "outputs": [
        {
          "data": {
            "text/plain": [
              "count       1000\n",
              "unique         2\n",
              "top       Female\n",
              "freq         516\n",
              "Name: Gender, dtype: object"
            ]
          },
          "execution_count": 23,
          "metadata": {},
          "output_type": "execute_result"
        }
      ],
      "source": [
        "car_data['Gender'].describe()"
      ],
      "id": "SadNCiOxyX0T"
    },
    {
      "cell_type": "code",
      "execution_count": null,
      "metadata": {
        "id": "vNmJSqwIyX0U",
        "outputId": "9b107061-4246-4da5-a881-33fd37743a8b"
      },
      "outputs": [
        {
          "data": {
            "text/plain": [
              "array(['Male', 'Female'], dtype=object)"
            ]
          },
          "execution_count": 25,
          "metadata": {},
          "output_type": "execute_result"
        }
      ],
      "source": [
        "car_data['Gender'].unique()"
      ],
      "id": "vNmJSqwIyX0U"
    },
    {
      "cell_type": "code",
      "execution_count": null,
      "metadata": {
        "id": "ms8PDvRzyX0U"
      },
      "outputs": [],
      "source": [
        "car_data['Gender'] = car_data['Gender'].replace(['Male','Female'],[0,1])"
      ],
      "id": "ms8PDvRzyX0U"
    },
    {
      "cell_type": "code",
      "execution_count": null,
      "metadata": {
        "id": "Gop1uhPjyX0V",
        "outputId": "39977f23-da21-42b2-c527-a10d9c58e936"
      },
      "outputs": [
        {
          "data": {
            "text/plain": [
              "1    516\n",
              "0    484\n",
              "Name: Gender, dtype: int64"
            ]
          },
          "execution_count": 33,
          "metadata": {},
          "output_type": "execute_result"
        }
      ],
      "source": [
        "car_data['Gender'].value_counts()"
      ],
      "id": "Gop1uhPjyX0V"
    },
    {
      "cell_type": "code",
      "execution_count": null,
      "metadata": {
        "id": "9xN9GpGbyX0V",
        "outputId": "d21734e6-92e9-4179-d095-2757f0c9c76d"
      },
      "outputs": [
        {
          "name": "stdout",
          "output_type": "stream",
          "text": [
            "   Age  AnnualSalary\n",
            "0   35         20000\n",
            "1   40         43500\n",
            "2   49         74000\n",
            "3   40        107500\n",
            "4   25         79000 \n",
            "\n",
            "               Age   AnnualSalary\n",
            "count  1000.000000    1000.000000\n",
            "mean     40.106000   72689.000000\n",
            "std      10.707073   34488.341867\n",
            "min      18.000000   15000.000000\n",
            "25%      32.000000   46375.000000\n",
            "50%      40.000000   72000.000000\n",
            "75%      48.000000   90000.000000\n",
            "max      63.000000  152500.000000 \n",
            "\n"
          ]
        }
      ],
      "source": [
        "y = car_data['Purchased']\n",
        "X = car_data.loc[:,['Age','AnnualSalary']]\n",
        "print(X.head(), '\\n')\n",
        "print(X.describe(), '\\n')"
      ],
      "id": "9xN9GpGbyX0V"
    },
    {
      "cell_type": "markdown",
      "metadata": {
        "id": "fDI_a5yjyX0V"
      },
      "source": [
        "3. MaxMin-normalize `Age` and `AnnualSalary` in `X`."
      ],
      "id": "fDI_a5yjyX0V"
    },
    {
      "cell_type": "code",
      "execution_count": null,
      "metadata": {
        "id": "ZM814_dRyX0V",
        "outputId": "8fe91119-7967-4f50-89ed-441f36763691"
      },
      "outputs": [
        {
          "name": "stdout",
          "output_type": "stream",
          "text": [
            "        Age  AnnualSalary\n",
            "0  0.377778      0.036364\n",
            "1  0.488889      0.207273\n",
            "2  0.688889      0.429091\n",
            "3  0.488889      0.672727\n",
            "4  0.155556      0.465455 \n",
            "\n",
            "               Age  AnnualSalary\n",
            "count  1000.000000   1000.000000\n",
            "mean      0.491244      0.419556\n",
            "std       0.237935      0.250824\n",
            "min       0.000000      0.000000\n",
            "25%       0.311111      0.228182\n",
            "50%       0.488889      0.414545\n",
            "75%       0.666667      0.545455\n",
            "max       1.000000      1.000000 \n",
            "\n"
          ]
        }
      ],
      "source": [
        "# Maxmin normalization function:\n",
        "def maxmin(z):\n",
        "    z = (z-min(z))/(max(z)-min(z))\n",
        "    return(z)\n",
        "\n",
        "X = X.apply(maxmin)\n",
        "print(X.head(), '\\n')\n",
        "print(X.describe(), '\\n')"
      ],
      "id": "ZM814_dRyX0V"
    },
    {
      "cell_type": "markdown",
      "metadata": {
        "id": "JOng2C1KyX0W"
      },
      "source": [
        "4. Split the sample into a ~80% training dataset and a ~20% testing dataset."
      ],
      "id": "JOng2C1KyX0W"
    },
    {
      "cell_type": "code",
      "execution_count": null,
      "metadata": {
        "id": "zsFA1KtFyX0W"
      },
      "outputs": [],
      "source": [
        "from sklearn.model_selection import train_test_split\n",
        "X_train, X_test, y_train, y_test = train_test_split(X,y,test_size=.2,random_state=10)"
      ],
      "id": "zsFA1KtFyX0W"
    },
    {
      "cell_type": "markdown",
      "metadata": {
        "id": "jtOc-GkXyX0W"
      },
      "source": [
        "5. Treat this as a classification problem: The model is supposed to predict 0 or 1 for each customer, classifying them as a purchaser or non-purchaser. Use sklearn to determine the optimal number of neighbors $k$ to use."
      ],
      "id": "jtOc-GkXyX0W"
    },
    {
      "cell_type": "code",
      "execution_count": null,
      "metadata": {
        "id": "ZjPQ5m4syX0W",
        "outputId": "beaa18f6-d872-490b-cfbc-897d586758c2"
      },
      "outputs": [
        {
          "name": "stdout",
          "output_type": "stream",
          "text": [
            "[11] \n",
            "\n"
          ]
        }
      ],
      "source": [
        "from sklearn.neighbors import KNeighborsClassifier\n",
        "import numpy as np\n",
        "\n",
        "k_bar = 30\n",
        "k_grid = np.arange(1,k_bar)\n",
        "SSE = np.zeros(k_bar)\n",
        "for k in range(k_bar):\n",
        "    model = KNeighborsClassifier(n_neighbors=k+1)\n",
        "    fitted_model = model.fit(X_train,y_train)\n",
        "    y_hat = fitted_model.predict(X_test)\n",
        "    SSE[k] = np.sum( (y_test-y_hat)**2 )\n",
        "\n",
        "SSE_min = np.min(SSE)\n",
        "min_index = np.where(SSE==SSE_min)\n",
        "k_star = k_grid[min_index]\n",
        "print(k_star, '\\n')"
      ],
      "id": "ZjPQ5m4syX0W"
    },
    {
      "cell_type": "code",
      "execution_count": null,
      "metadata": {
        "id": "RniSvnQEyX0W",
        "outputId": "b4e954c7-a80c-477e-9449-97e6bfe0b7fe"
      },
      "outputs": [
        {
          "data": {
            "image/png": "[encoded data removed]",
            "text/plain": [
              "<Figure size 432x288 with 1 Axes>"
            ]
          },
          "metadata": {
            "needs_background": "light"
          },
          "output_type": "display_data"
        }
      ],
      "source": [
        "import matplotlib.pyplot as plt\n",
        "\n",
        "plt.plot(np.arange(0,k_bar),SSE,label='Test')\n",
        "plt.xlabel(\"k\")\n",
        "plt.ylabel(\"SSE\")\n",
        "plt.legend(loc='lower right')\n",
        "plt.title(\"SSE\")\n",
        "plt.show()"
      ],
      "id": "RniSvnQEyX0W"
    },
    {
      "cell_type": "markdown",
      "metadata": {
        "id": "Jp9c3ixlyX0X"
      },
      "source": [
        "6. Run the model for the optimal number of neighbors on the testing data. Cross tabulate the predicted outcomes against the actual outcomes; this is called a **confusion matrix**. How often does the model predict a sale when one fails to occur? How often does the model predict no sale when one does occur? Overall, does it provide accurate predictions?"
      ],
      "id": "Jp9c3ixlyX0X"
    },
    {
      "cell_type": "code",
      "execution_count": null,
      "metadata": {
        "id": "4FAIqeSHyX0X",
        "outputId": "b80f4618-9465-406f-bcf1-614f4029dc33"
      },
      "outputs": [
        {
          "data": {
            "text/html": [
              "<div>\n",
              "<style scoped>\n",
              "    .dataframe tbody tr th:only-of-type {\n",
              "        vertical-align: middle;\n",
              "    }\n",
              "\n",
              "    .dataframe tbody tr th {\n",
              "        vertical-align: top;\n",
              "    }\n",
              "\n",
              "    .dataframe thead th {\n",
              "        text-align: right;\n",
              "    }\n",
              "</style>\n",
              "<table border=\"1\" class=\"dataframe\">\n",
              "  <thead>\n",
              "    <tr style=\"text-align: right;\">\n",
              "      <th>col_0</th>\n",
              "      <th>0</th>\n",
              "      <th>1</th>\n",
              "    </tr>\n",
              "    <tr>\n",
              "      <th>Purchased</th>\n",
              "      <th></th>\n",
              "      <th></th>\n",
              "    </tr>\n",
              "  </thead>\n",
              "  <tbody>\n",
              "    <tr>\n",
              "      <th>0</th>\n",
              "      <td>117</td>\n",
              "      <td>9</td>\n",
              "    </tr>\n",
              "    <tr>\n",
              "      <th>1</th>\n",
              "      <td>6</td>\n",
              "      <td>68</td>\n",
              "    </tr>\n",
              "  </tbody>\n",
              "</table>\n",
              "</div>"
            ],
            "text/plain": [
              "col_0        0   1\n",
              "Purchased         \n",
              "0          117   9\n",
              "1            6  68"
            ]
          },
          "execution_count": 10,
          "metadata": {},
          "output_type": "execute_result"
        }
      ],
      "source": [
        "model = KNeighborsClassifier(n_neighbors=11)\n",
        "fitted_model = model.fit(X_train,y_train)\n",
        "y_hat = fitted_model.predict(X_test)\n",
        "\n",
        "pd.crosstab(y_test, y_hat)"
      ],
      "id": "4FAIqeSHyX0X"
    },
    {
      "cell_type": "markdown",
      "metadata": {
        "id": "Rdtc4A8ryX0X"
      },
      "source": [
        "For the most part the model is accurate. There are 9 times where 0 was predicted as 1 and 6 times where 1 was predicted as 0. The overall accuracy of the model is 185/200 = 0.925."
      ],
      "id": "Rdtc4A8ryX0X"
    },
    {
      "cell_type": "markdown",
      "metadata": {
        "id": "LGZ_IuzqyX0X"
      },
      "source": [
        "7. Now, compute confusion matrices separately for men and women, as in part 6. Does the model make more accurate predictions for one sex or the other? Explain. (Performance of algorithms on population subgroups is a growing topic in data science.)"
      ],
      "id": "LGZ_IuzqyX0X"
    },
    {
      "cell_type": "code",
      "execution_count": null,
      "metadata": {
        "id": "OsMwrEPKyX0X"
      },
      "outputs": [],
      "source": [
        "vars = ['Age','AnnualSalary','Gender']\n",
        "X = car_data.loc[:,vars]\n",
        "y = car_data['Purchased']\n",
        "X_train, X_test, y_train, y_test = train_test_split(X,y,test_size=.2,random_state=10)\n",
        "\n",
        "model = KNeighborsClassifier(n_neighbors=11)\n",
        "fitted_model = model.fit(X_train.drop('Gender',axis=1),y_train)\n",
        "y_hat = fitted_model.predict(X_test.drop('Gender',axis=1))\n",
        "\n",
        "y_hat_M = y_hat[ X_test['Gender'] == 'Male']\n",
        "y_hat_F = y_hat[ X_test['Gender'] == 'Female']\n",
        "y_M = y_test[ X_test['Gender'] == 'Male']\n",
        "y_F = y_test[ X_test['Gender'] == 'Female']"
      ],
      "id": "OsMwrEPKyX0X"
    },
    {
      "cell_type": "code",
      "execution_count": null,
      "metadata": {
        "id": "_sx341ZcyX0Y",
        "outputId": "f7c287e3-e4c3-4acd-8d1a-0c63e692ee6e"
      },
      "outputs": [
        {
          "data": {
            "text/html": [
              "<div>\n",
              "<style scoped>\n",
              "    .dataframe tbody tr th:only-of-type {\n",
              "        vertical-align: middle;\n",
              "    }\n",
              "\n",
              "    .dataframe tbody tr th {\n",
              "        vertical-align: top;\n",
              "    }\n",
              "\n",
              "    .dataframe thead th {\n",
              "        text-align: right;\n",
              "    }\n",
              "</style>\n",
              "<table border=\"1\" class=\"dataframe\">\n",
              "  <thead>\n",
              "    <tr style=\"text-align: right;\">\n",
              "      <th>col_0</th>\n",
              "      <th>0</th>\n",
              "      <th>1</th>\n",
              "    </tr>\n",
              "    <tr>\n",
              "      <th>Purchased</th>\n",
              "      <th></th>\n",
              "      <th></th>\n",
              "    </tr>\n",
              "  </thead>\n",
              "  <tbody>\n",
              "    <tr>\n",
              "      <th>0</th>\n",
              "      <td>44</td>\n",
              "      <td>14</td>\n",
              "    </tr>\n",
              "    <tr>\n",
              "      <th>1</th>\n",
              "      <td>9</td>\n",
              "      <td>30</td>\n",
              "    </tr>\n",
              "  </tbody>\n",
              "</table>\n",
              "</div>"
            ],
            "text/plain": [
              "col_0       0   1\n",
              "Purchased        \n",
              "0          44  14\n",
              "1           9  30"
            ]
          },
          "execution_count": 13,
          "metadata": {},
          "output_type": "execute_result"
        }
      ],
      "source": [
        "pd.crosstab(y_F, y_hat_F)"
      ],
      "id": "_sx341ZcyX0Y"
    },
    {
      "cell_type": "code",
      "execution_count": null,
      "metadata": {
        "id": "00woxbsGyX0Y",
        "outputId": "553038bf-f362-4c3c-ca79-66d929835c3f"
      },
      "outputs": [
        {
          "data": {
            "text/html": [
              "<div>\n",
              "<style scoped>\n",
              "    .dataframe tbody tr th:only-of-type {\n",
              "        vertical-align: middle;\n",
              "    }\n",
              "\n",
              "    .dataframe tbody tr th {\n",
              "        vertical-align: top;\n",
              "    }\n",
              "\n",
              "    .dataframe thead th {\n",
              "        text-align: right;\n",
              "    }\n",
              "</style>\n",
              "<table border=\"1\" class=\"dataframe\">\n",
              "  <thead>\n",
              "    <tr style=\"text-align: right;\">\n",
              "      <th>col_0</th>\n",
              "      <th>0</th>\n",
              "      <th>1</th>\n",
              "    </tr>\n",
              "    <tr>\n",
              "      <th>Purchased</th>\n",
              "      <th></th>\n",
              "      <th></th>\n",
              "    </tr>\n",
              "  </thead>\n",
              "  <tbody>\n",
              "    <tr>\n",
              "      <th>0</th>\n",
              "      <td>57</td>\n",
              "      <td>11</td>\n",
              "    </tr>\n",
              "    <tr>\n",
              "      <th>1</th>\n",
              "      <td>11</td>\n",
              "      <td>24</td>\n",
              "    </tr>\n",
              "  </tbody>\n",
              "</table>\n",
              "</div>"
            ],
            "text/plain": [
              "col_0       0   1\n",
              "Purchased        \n",
              "0          57  11\n",
              "1          11  24"
            ]
          },
          "execution_count": 14,
          "metadata": {},
          "output_type": "execute_result"
        }
      ],
      "source": [
        "pd.crosstab(y_M, y_hat_M)"
      ],
      "id": "00woxbsGyX0Y"
    },
    {
      "cell_type": "markdown",
      "metadata": {
        "id": "3J4iP7t6yX0Y"
      },
      "source": [
        "For females, there were 14 times where 0 was predicted as a 1 and 9 times where a 1 was predicted as a 0. This gives an overall accuracy of 74/97 = 0.7629. For the males there were 11 times where 0 was predicted as 1 and 11 times where 1 was predicted as a 0. This gives an overall accuracy of 81/103 = 0.7864. So the model is slightly more accurate for males"
      ],
      "id": "3J4iP7t6yX0Y"
    },
    {
      "cell_type": "markdown",
      "metadata": {
        "id": "3n-LS56NyX0Y"
      },
      "source": [
        "**Q2.** This question is a case study for $k$ nearest neighbor The target variable `y` is `price` and the features are `year` and `mileage`.\n",
        "\n",
        "1. Load the `./data/USA_cars_datasets.csv`. Keep the following variables and drop the rest: `price`, `year`, `mileage`. Are there any `NA`'s to handle? Look at the head and dimensions of the data."
      ],
      "id": "3n-LS56NyX0Y"
    },
    {
      "cell_type": "code",
      "execution_count": null,
      "metadata": {
        "id": "5tIgarl7yX0Y",
        "outputId": "f84d74f3-64bc-4d65-beea-d08606c01c0d"
      },
      "outputs": [
        {
          "data": {
            "text/html": [
              "<div>\n",
              "<style scoped>\n",
              "    .dataframe tbody tr th:only-of-type {\n",
              "        vertical-align: middle;\n",
              "    }\n",
              "\n",
              "    .dataframe tbody tr th {\n",
              "        vertical-align: top;\n",
              "    }\n",
              "\n",
              "    .dataframe thead th {\n",
              "        text-align: right;\n",
              "    }\n",
              "</style>\n",
              "<table border=\"1\" class=\"dataframe\">\n",
              "  <thead>\n",
              "    <tr style=\"text-align: right;\">\n",
              "      <th></th>\n",
              "      <th>price</th>\n",
              "      <th>year</th>\n",
              "      <th>mileage</th>\n",
              "    </tr>\n",
              "  </thead>\n",
              "  <tbody>\n",
              "    <tr>\n",
              "      <th>0</th>\n",
              "      <td>6300</td>\n",
              "      <td>2008</td>\n",
              "      <td>274117</td>\n",
              "    </tr>\n",
              "    <tr>\n",
              "      <th>1</th>\n",
              "      <td>2899</td>\n",
              "      <td>2011</td>\n",
              "      <td>190552</td>\n",
              "    </tr>\n",
              "    <tr>\n",
              "      <th>2</th>\n",
              "      <td>5350</td>\n",
              "      <td>2018</td>\n",
              "      <td>39590</td>\n",
              "    </tr>\n",
              "    <tr>\n",
              "      <th>3</th>\n",
              "      <td>25000</td>\n",
              "      <td>2014</td>\n",
              "      <td>64146</td>\n",
              "    </tr>\n",
              "    <tr>\n",
              "      <th>4</th>\n",
              "      <td>27700</td>\n",
              "      <td>2018</td>\n",
              "      <td>6654</td>\n",
              "    </tr>\n",
              "  </tbody>\n",
              "</table>\n",
              "</div>"
            ],
            "text/plain": [
              "   price  year  mileage\n",
              "0   6300  2008   274117\n",
              "1   2899  2011   190552\n",
              "2   5350  2018    39590\n",
              "3  25000  2014    64146\n",
              "4  27700  2018     6654"
            ]
          },
          "execution_count": 2,
          "metadata": {},
          "output_type": "execute_result"
        }
      ],
      "source": [
        "import pandas as pd\n",
        "\n",
        "US_car_data = pd.read_csv('./data/USA_cars_datasets.csv')\n",
        "US_car_data.drop(US_car_data.columns.difference(['price', 'year', 'mileage']), 1, inplace=True)\n",
        "US_car_data.head()"
      ],
      "id": "5tIgarl7yX0Y"
    },
    {
      "cell_type": "code",
      "execution_count": null,
      "metadata": {
        "id": "dHv0v6NcyX0Z",
        "outputId": "92387620-e817-422f-c7d7-399205e6e289"
      },
      "outputs": [
        {
          "data": {
            "text/plain": [
              "(2499, 3)"
            ]
          },
          "execution_count": 5,
          "metadata": {},
          "output_type": "execute_result"
        }
      ],
      "source": [
        "US_car_data.shape"
      ],
      "id": "dHv0v6NcyX0Z"
    },
    {
      "cell_type": "code",
      "execution_count": null,
      "metadata": {
        "id": "AmZalXmlyX0Z",
        "outputId": "5ebd16c2-9b8e-41bc-c056-9456f8ccfdcf"
      },
      "outputs": [
        {
          "name": "stdout",
          "output_type": "stream",
          "text": [
            "Total Missings for price:  0\n"
          ]
        }
      ],
      "source": [
        "print(\"Total Missings for price: \", sum(US_car_data['price'].isnull()))"
      ],
      "id": "AmZalXmlyX0Z"
    },
    {
      "cell_type": "code",
      "execution_count": null,
      "metadata": {
        "id": "yZbGPYiIyX0Z",
        "outputId": "2bbf296a-3d06-46d3-a509-124861f859c1"
      },
      "outputs": [
        {
          "name": "stdout",
          "output_type": "stream",
          "text": [
            "Total Missings for year 0\n"
          ]
        }
      ],
      "source": [
        "print(\"Total Missings for year: \", sum(US_car_data['year'].isnull()))"
      ],
      "id": "yZbGPYiIyX0Z"
    },
    {
      "cell_type": "code",
      "execution_count": null,
      "metadata": {
        "id": "uSvcYHqEyX0Z",
        "outputId": "f59e1d19-8c70-4b8f-adf9-e39dc4ebec17"
      },
      "outputs": [
        {
          "name": "stdout",
          "output_type": "stream",
          "text": [
            "Total Missings for mileage:  0\n"
          ]
        }
      ],
      "source": [
        "print(\"Total Missings for mileage: \", sum(US_car_data['mileage'].isnull()))"
      ],
      "id": "uSvcYHqEyX0Z"
    },
    {
      "cell_type": "markdown",
      "metadata": {
        "id": "WkcyTN9KyX0a"
      },
      "source": [
        "2. Maxmin normalize `year` and `mileage`."
      ],
      "id": "WkcyTN9KyX0a"
    },
    {
      "cell_type": "code",
      "execution_count": null,
      "metadata": {
        "id": "LyiPBphryX0a",
        "outputId": "cb99dc00-02c5-475d-c0fb-c52e55f901b2"
      },
      "outputs": [
        {
          "data": {
            "text/html": [
              "<div>\n",
              "<style scoped>\n",
              "    .dataframe tbody tr th:only-of-type {\n",
              "        vertical-align: middle;\n",
              "    }\n",
              "\n",
              "    .dataframe tbody tr th {\n",
              "        vertical-align: top;\n",
              "    }\n",
              "\n",
              "    .dataframe thead th {\n",
              "        text-align: right;\n",
              "    }\n",
              "</style>\n",
              "<table border=\"1\" class=\"dataframe\">\n",
              "  <thead>\n",
              "    <tr style=\"text-align: right;\">\n",
              "      <th></th>\n",
              "      <th>year</th>\n",
              "      <th>mileage</th>\n",
              "    </tr>\n",
              "  </thead>\n",
              "  <tbody>\n",
              "    <tr>\n",
              "      <th>0</th>\n",
              "      <td>2008</td>\n",
              "      <td>274117</td>\n",
              "    </tr>\n",
              "    <tr>\n",
              "      <th>1</th>\n",
              "      <td>2011</td>\n",
              "      <td>190552</td>\n",
              "    </tr>\n",
              "    <tr>\n",
              "      <th>2</th>\n",
              "      <td>2018</td>\n",
              "      <td>39590</td>\n",
              "    </tr>\n",
              "    <tr>\n",
              "      <th>3</th>\n",
              "      <td>2014</td>\n",
              "      <td>64146</td>\n",
              "    </tr>\n",
              "    <tr>\n",
              "      <th>4</th>\n",
              "      <td>2018</td>\n",
              "      <td>6654</td>\n",
              "    </tr>\n",
              "  </tbody>\n",
              "</table>\n",
              "</div>"
            ],
            "text/plain": [
              "   year  mileage\n",
              "0  2008   274117\n",
              "1  2011   190552\n",
              "2  2018    39590\n",
              "3  2014    64146\n",
              "4  2018     6654"
            ]
          },
          "execution_count": 14,
          "metadata": {},
          "output_type": "execute_result"
        }
      ],
      "source": [
        "y = US_car_data['price']\n",
        "X = US_car_data.loc[:,['year', 'mileage']]\n",
        "X.head()"
      ],
      "id": "LyiPBphryX0a"
    },
    {
      "cell_type": "code",
      "execution_count": null,
      "metadata": {
        "id": "OGG2TYhhyX0a",
        "outputId": "46c68798-3d56-408e-c921-3b8e15577257"
      },
      "outputs": [
        {
          "name": "stdout",
          "output_type": "stream",
          "text": [
            "       year   mileage\n",
            "0  0.744681  0.269287\n",
            "1  0.808511  0.187194\n",
            "2  0.957447  0.038892\n",
            "3  0.872340  0.063016\n",
            "4  0.957447  0.006537 \n",
            "\n",
            "              year      mileage\n",
            "count  2499.000000  2499.000000\n",
            "mean      0.930091     0.051377\n",
            "std       0.073248     0.058654\n",
            "min       0.000000     0.000000\n",
            "25%       0.914894     0.021088\n",
            "50%       0.957447     0.034742\n",
            "75%       0.978723     0.062354\n",
            "max       1.000000     1.000000 \n",
            "\n"
          ]
        }
      ],
      "source": [
        "# Maxmin normalization function:\n",
        "def maxmin(z):\n",
        "    z = (z-min(z))/(max(z)-min(z))\n",
        "    return(z)\n",
        "\n",
        "X = X.apply(maxmin)\n",
        "print(X.head(), '\\n')\n",
        "print(X.describe(), '\\n')"
      ],
      "id": "OGG2TYhhyX0a"
    },
    {
      "cell_type": "markdown",
      "metadata": {
        "id": "44Yl-PGYyX0a"
      },
      "source": [
        "3. Split the sample into ~80% for training and ~20% for evaluation."
      ],
      "id": "44Yl-PGYyX0a"
    },
    {
      "cell_type": "code",
      "execution_count": null,
      "metadata": {
        "id": "XmPo7ZpuyX0g"
      },
      "outputs": [],
      "source": [
        "from sklearn.model_selection import train_test_split\n",
        "X_train, X_test, y_train, y_test = train_test_split(X,y,test_size=.2,random_state=10)"
      ],
      "id": "XmPo7ZpuyX0g"
    },
    {
      "cell_type": "markdown",
      "metadata": {
        "id": "5rH_BFJ5yX0h"
      },
      "source": [
        "4. Use the $k$NN algorithm for regression and the training data to predict `price` using `year` and `mileage` for the test set for $k=3,10,25,50,100,300$. For each value of $k$, compute the Sum of Squared Error and make a scatterplot showing the test value plotted against the predicted value. What patterns do you notice as you increase $k$?"
      ],
      "id": "5rH_BFJ5yX0h"
    },
    {
      "cell_type": "code",
      "execution_count": null,
      "metadata": {
        "id": "jasPF70pyX0h",
        "outputId": "06fdfe3b-c6f6-4d04-c8eb-960542dcb02d"
      },
      "outputs": [
        {
          "data": {
            "image/png": "[encoded data removed]",
            "text/plain": [
              "<Figure size 432x288 with 1 Axes>"
            ]
          },
          "metadata": {
            "needs_background": "light"
          },
          "output_type": "display_data"
        },
        {
          "data": {
            "image/png": "[encoded data removed]",
            "text/plain": [
              "<Figure size 432x288 with 1 Axes>"
            ]
          },
          "metadata": {
            "needs_background": "light"
          },
          "output_type": "display_data"
        },
        {
          "data": {
            "image/png": "[encoded data removed]",
            "text/plain": [
              "<Figure size 432x288 with 1 Axes>"
            ]
          },
          "metadata": {
            "needs_background": "light"
          },
          "output_type": "display_data"
        },
        {
          "data": {
            "image/png": "[encoded data removed]",
            "text/plain": [
              "<Figure size 432x288 with 1 Axes>"
            ]
          },
          "metadata": {
            "needs_background": "light"
          },
          "output_type": "display_data"
        },
        {
          "data": {
            "image/png": "[encoded data removed]",
            "text/plain": [
              "<Figure size 432x288 with 1 Axes>"
            ]
          },
          "metadata": {
            "needs_background": "light"
          },
          "output_type": "display_data"
        },
        {
          "data": {
            "image/png": "[encoded data removed]",
            "text/plain": [
              "<Figure size 432x288 with 1 Axes>"
            ]
          },
          "metadata": {
            "needs_background": "light"
          },
          "output_type": "display_data"
        }
      ],
      "source": [
        "from sklearn.neighbors import KNeighborsRegressor as KNNRegression\n",
        "import seaborn as sns\n",
        "import matplotlib.pyplot as plt\n",
        "import numpy as np\n",
        "\n",
        "k_list = [3, 10, 25, 50, 100, 300]\n",
        "SSE = np.zeros(len(k_list))\n",
        "\n",
        "for i in range(len(k_list)):\n",
        "    k = k_list[i]\n",
        "    model = KNNRegression(n_neighbors=k+1)\n",
        "    fitted_model = model.fit(X_train, y_train)\n",
        "    y_hat = fitted_model.predict(X_test)\n",
        "#     sns.scatterplot(x=y_hat, y=y_test)\n",
        "    sns.regplot(x=y_hat, y=y_test, scatter_kws = {\"color\":\"blue\"},\n",
        "                line_kws = {\"color\":\"red\"})\n",
        "    slope, intercept = np.polyfit(y_hat, y_test, 1)\n",
        "    plt.annotate(f\"y = {slope:.2f}x + {intercept:.2f}\", xy=(2000, 50000))\n",
        "    plt.title(f\"K = {k:n}\")\n",
        "    plt.show()\n",
        "    SSE[i] = np.sum((y_test-y_hat)**2)"
      ],
      "id": "jasPF70pyX0h"
    },
    {
      "cell_type": "markdown",
      "source": [
        "From the graphs you can see that as k increases so does the slope of the regression line. For the best k we are looking for the one with the k closest to 1, which in this case would be k=50."
      ],
      "metadata": {
        "id": "X17JbGufzGaC"
      },
      "id": "X17JbGufzGaC"
    },
    {
      "cell_type": "markdown",
      "metadata": {
        "id": "ds6OqDInyX0h"
      },
      "source": [
        "5. Determine the optimal $k$ for these data."
      ],
      "id": "ds6OqDInyX0h"
    },
    {
      "cell_type": "code",
      "execution_count": null,
      "metadata": {
        "id": "YMBZLVOqyX0h",
        "outputId": "959ce686-3cd0-4830-86ee-371f88895bd4"
      },
      "outputs": [
        {
          "name": "stdout",
          "output_type": "stream",
          "text": [
            "50 \n",
            "\n"
          ]
        }
      ],
      "source": [
        "SSE_min = np.min(SSE)\n",
        "min_index = int(np.where(SSE==SSE_min)[0])\n",
        "k_star = k_list[min_index]\n",
        "print(k_star, \"\\n\")"
      ],
      "id": "YMBZLVOqyX0h"
    },
    {
      "cell_type": "markdown",
      "metadata": {
        "id": "RLc0m2sGyX0i"
      },
      "source": [
        "6. Describe what happened in the plots of predicted versus actual prices as $k$ varied, taking your answer into part 6 into account. (Hint: Use the words \"underfitting\" and \"overfitting\".)"
      ],
      "id": "RLc0m2sGyX0i"
    },
    {
      "cell_type": "markdown",
      "source": [
        "For the values lower than 50, our model was underfitted which was represented through the values of the slope of the regression line being lower than 1. For the values greater than 50, the model was overfitted as shown through the slope values being greater than 1."
      ],
      "metadata": {
        "id": "zx1Bm2uxzZsh"
      },
      "id": "zx1Bm2uxzZsh"
    },
    {
      "cell_type": "markdown",
      "metadata": {
        "id": "mJdcWt-6yX0i"
      },
      "source": [
        "**Q3.** This question is a case study for $k$ nearest neighbor, particularly variable selection. The data for the question include (summaries reproduced here directly from the codebook):\n",
        "\n",
        "- age: age of the patient (years)\n",
        "- anaemia: decrease of red blood cells or hemoglobin (boolean)\n",
        "- high blood pressure: if the patient has hypertension (boolean)\n",
        "- creatinine phosphokinase (CPK): level of the CPK enzyme in the blood (mcg/L)\n",
        "- diabetes: if the patient has diabetes (boolean)\n",
        "- ejection fraction: percentage of blood leaving the heart at each contraction (percentage)\n",
        "- platelets: platelets in the blood (kiloplatelets/mL)\n",
        "- sex: woman or man (binary)\n",
        "- serum creatinine: level of serum creatinine in the blood (mg/dL)\n",
        "- serum sodium: level of serum sodium in the blood (mEq/L)\n",
        "- smoking: if the patient smokes or not (boolean)\n",
        "- time: follow-up period (days)\n",
        "- death event: if the patient deceased during the follow-up period (boolean)\n",
        "\n",
        "1. Load the `./data/heart_failure_clinical_records_dataset.csv`. Are there any `NA`'s to handle? use `.drop()` to remove `time` from the dataframe.\n",
        "2. Make a correlation matrix. What variables are strongly associated with a death event?\n",
        "3. For the dummy variables `anaemia`, `diabetes`, `high_blood_pressure`, `sex`, and `smoking`, compute a summary table of `DEATH_EVENT` grouped by the variable. For which variables does a higher proportion of the population die when the variable takes the value 1 rather than 0?\n",
        "4. On the basis of your answers from 2 and 3, build a matrix $X$ of the variables you think are most predictive of a death, and a variable $y$ equal to `DEATH_EVENT`.\n",
        "5. Maxmin normalize all of the variables in `X`.\n",
        "6. Split the sample into ~80% for training and ~20% for evaluation. (Try to use the same train/test split for the whole question, so that you're comparing apples to apples in the questions below.).\n",
        "7. Determine the optimal number of neighbors for a $k$NN regression for the variables you selected.\n",
        "8. OK, do steps 5 through 7 again, but use all of the variables (except `time`). Which model has a lower Sum of Squared Error? Which would you prefer to use in practice, if you had to predict `DEATH_EVENT`s? If you play with the selection of variables, how much does the SSE change for your fitted model on the test data? Are more variables better, in this case? Explain your findings."
      ],
      "id": "mJdcWt-6yX0i"
    },
    {
      "cell_type": "markdown",
      "metadata": {
        "id": "xNCV5nbvyX0i"
      },
      "source": [
        "**Q4.** Let's do some very basic computer vision. We're going to import the MNIST handwritten digits data and $k$NN to predict values (i.e. \"see/read\").\n",
        "\n",
        "1. To load the data, run the following code in a chunk:\n",
        "```\n",
        "from keras.datasets import mnist\n",
        "df = mnist.load_data('minst.db')\n",
        "train,test = df\n",
        "X_train, y_train = train\n",
        "X_test, y_test = test\n",
        "```\n",
        "The `y_test` and `y_train` vectors, for each index `i`, tell you want number is written in the corresponding index in `X_train[i]` and `X_test[i]`. The value of `X_train[i]` and `X_test[i]`, however, is a 28$\\times$28 array whose entries contain values between 0 and 256. Each element of the matrix is essentially a \"pixel\" and the matrix encodes a representation of a number. To visualize this, run the following code to see the first ten numbers:\n",
        "```\n",
        "import matplotlib.pyplot as plt\n",
        "import numpy as np\n",
        "np.set_printoptions(edgeitems=30, linewidth=100000)\n",
        "for i in range(5):\n",
        "    print(y_test[i],'\\n') # Print the label\n",
        "    print(X_test[i],'\\n') # Print the matrix of values\n",
        "    plt.contourf(np.rot90(X_test[i].transpose())) # Make a contour plot of the matrix values\n",
        "    plt.show()\n",
        "```\n",
        "OK, those are the data: Labels attached to handwritten digits encoded as a matrix."
      ],
      "id": "xNCV5nbvyX0i"
    },
    {
      "cell_type": "code",
      "execution_count": 1,
      "metadata": {
        "id": "R_X5l9UcyX0i",
        "outputId": "6237bc34-11a1-4a42-c75d-a495ba8bc00e",
        "colab": {
          "base_uri": "https://localhost:8080/"
        }
      },
      "outputs": [
        {
          "output_type": "stream",
          "name": "stdout",
          "text": [
            "Downloading data from https://storage.googleapis.com/tensorflow/tf-keras-datasets/mnist.npz\n",
            "11490434/11490434 [==============================] - 0s 0us/step\n"
          ]
        }
      ],
      "source": [
        "from keras.datasets import mnist\n",
        "df = mnist.load_data('minst.db')\n",
        "train,test = df\n",
        "X_train, y_train = train\n",
        "X_test, y_test = test"
      ],
      "id": "R_X5l9UcyX0i"
    },
    {
      "cell_type": "code",
      "execution_count": 2,
      "metadata": {
        "id": "wCl-p4EmyX0j",
        "outputId": "5b99bb83-d8d4-453b-baed-b9ff4ed84bdc",
        "colab": {
          "base_uri": "https://localhost:8080/",
          "height": 1000
        }
      },
      "outputs": [
        {
          "output_type": "stream",
          "name": "stdout",
          "text": [
            "7 \n",
            "\n",
            "[[  0   0   0   0   0   0   0   0   0   0   0   0   0   0   0   0   0   0   0   0   0   0   0   0   0   0   0   0]\n",
            " [  0   0   0   0   0   0   0   0   0   0   0   0   0   0   0   0   0   0   0   0   0   0   0   0   0   0   0   0]\n",
            " [  0   0   0   0   0   0   0   0   0   0   0   0   0   0   0   0   0   0   0   0   0   0   0   0   0   0   0   0]\n",
            " [  0   0   0   0   0   0   0   0   0   0   0   0   0   0   0   0   0   0   0   0   0   0   0   0   0   0   0   0]\n",
            " [  0   0   0   0   0   0   0   0   0   0   0   0   0   0   0   0   0   0   0   0   0   0   0   0   0   0   0   0]\n",
            " [  0   0   0   0   0   0   0   0   0   0   0   0   0   0   0   0   0   0   0   0   0   0   0   0   0   0   0   0]\n",
            " [  0   0   0   0   0   0   0   0   0   0   0   0   0   0   0   0   0   0   0   0   0   0   0   0   0   0   0   0]\n",
            " [  0   0   0   0   0   0  84 185 159 151  60  36   0   0   0   0   0   0   0   0   0   0   0   0   0   0   0   0]\n",
            " [  0   0   0   0   0   0 222 254 254 254 254 241 198 198 198 198 198 198 198 198 170  52   0   0   0   0   0   0]\n",
            " [  0   0   0   0   0   0  67 114  72 114 163 227 254 225 254 254 254 250 229 254 254 140   0   0   0   0   0   0]\n",
            " [  0   0   0   0   0   0   0   0   0   0   0  17  66  14  67  67  67  59  21 236 254 106   0   0   0   0   0   0]\n",
            " [  0   0   0   0   0   0   0   0   0   0   0   0   0   0   0   0   0   0  83 253 209  18   0   0   0   0   0   0]\n",
            " [  0   0   0   0   0   0   0   0   0   0   0   0   0   0   0   0   0  22 233 255  83   0   0   0   0   0   0   0]\n",
            " [  0   0   0   0   0   0   0   0   0   0   0   0   0   0   0   0   0 129 254 238  44   0   0   0   0   0   0   0]\n",
            " [  0   0   0   0   0   0   0   0   0   0   0   0   0   0   0   0  59 249 254  62   0   0   0   0   0   0   0   0]\n",
            " [  0   0   0   0   0   0   0   0   0   0   0   0   0   0   0   0 133 254 187   5   0   0   0   0   0   0   0   0]\n",
            " [  0   0   0   0   0   0   0   0   0   0   0   0   0   0   0   9 205 248  58   0   0   0   0   0   0   0   0   0]\n",
            " [  0   0   0   0   0   0   0   0   0   0   0   0   0   0   0 126 254 182   0   0   0   0   0   0   0   0   0   0]\n",
            " [  0   0   0   0   0   0   0   0   0   0   0   0   0   0  75 251 240  57   0   0   0   0   0   0   0   0   0   0]\n",
            " [  0   0   0   0   0   0   0   0   0   0   0   0   0  19 221 254 166   0   0   0   0   0   0   0   0   0   0   0]\n",
            " [  0   0   0   0   0   0   0   0   0   0   0   0   3 203 254 219  35   0   0   0   0   0   0   0   0   0   0   0]\n",
            " [  0   0   0   0   0   0   0   0   0   0   0   0  38 254 254  77   0   0   0   0   0   0   0   0   0   0   0   0]\n",
            " [  0   0   0   0   0   0   0   0   0   0   0  31 224 254 115   1   0   0   0   0   0   0   0   0   0   0   0   0]\n",
            " [  0   0   0   0   0   0   0   0   0   0   0 133 254 254  52   0   0   0   0   0   0   0   0   0   0   0   0   0]\n",
            " [  0   0   0   0   0   0   0   0   0   0  61 242 254 254  52   0   0   0   0   0   0   0   0   0   0   0   0   0]\n",
            " [  0   0   0   0   0   0   0   0   0   0 121 254 254 219  40   0   0   0   0   0   0   0   0   0   0   0   0   0]\n",
            " [  0   0   0   0   0   0   0   0   0   0 121 254 207  18   0   0   0   0   0   0   0   0   0   0   0   0   0   0]\n",
            " [  0   0   0   0   0   0   0   0   0   0   0   0   0   0   0   0   0   0   0   0   0   0   0   0   0   0   0   0]] \n",
            "\n"
          ]
        },
        {
          "output_type": "display_data",
          "data": {
            "text/plain": [
              "<Figure size 640x480 with 1 Axes>"
            ],
            "image/png": "[encoded data removed]"
          },
          "metadata": {}
        },
        {
          "output_type": "stream",
          "name": "stdout",
          "text": [
            "2 \n",
            "\n",
            "[[  0   0   0   0   0   0   0   0   0   0   0   0   0   0   0   0   0   0   0   0   0   0   0   0   0   0   0   0]\n",
            " [  0   0   0   0   0   0   0   0   0   0   0   0   0   0   0   0   0   0   0   0   0   0   0   0   0   0   0   0]\n",
            " [  0   0   0   0   0   0   0   0   0   0   0   0   0   0   0   0   0   0   0   0   0   0   0   0   0   0   0   0]\n",
            " [  0   0   0   0   0   0   0   0   0   0 116 125 171 255 255 150  93   0   0   0   0   0   0   0   0   0   0   0]\n",
            " [  0   0   0   0   0   0   0   0   0 169 253 253 253 253 253 253 218  30   0   0   0   0   0   0   0   0   0   0]\n",
            " [  0   0   0   0   0   0   0   0 169 253 253 253 213 142 176 253 253 122   0   0   0   0   0   0   0   0   0   0]\n",
            " [  0   0   0   0   0   0   0  52 250 253 210  32  12   0   6 206 253 140   0   0   0   0   0   0   0   0   0   0]\n",
            " [  0   0   0   0   0   0   0  77 251 210  25   0   0   0 122 248 253  65   0   0   0   0   0   0   0   0   0   0]\n",
            " [  0   0   0   0   0   0   0   0  31  18   0   0   0   0 209 253 253  65   0   0   0   0   0   0   0   0   0   0]\n",
            " [  0   0   0   0   0   0   0   0   0   0   0   0   0 117 247 253 198  10   0   0   0   0   0   0   0   0   0   0]\n",
            " [  0   0   0   0   0   0   0   0   0   0   0   0  76 247 253 231  63   0   0   0   0   0   0   0   0   0   0   0]\n",
            " [  0   0   0   0   0   0   0   0   0   0   0   0 128 253 253 144   0   0   0   0   0   0   0   0   0   0   0   0]\n",
            " [  0   0   0   0   0   0   0   0   0   0   0 176 246 253 159  12   0   0   0   0   0   0   0   0   0   0   0   0]\n",
            " [  0   0   0   0   0   0   0   0   0   0  25 234 253 233  35   0   0   0   0   0   0   0   0   0   0   0   0   0]\n",
            " [  0   0   0   0   0   0   0   0   0   0 198 253 253 141   0   0   0   0   0   0   0   0   0   0   0   0   0   0]\n",
            " [  0   0   0   0   0   0   0   0   0  78 248 253 189  12   0   0   0   0   0   0   0   0   0   0   0   0   0   0]\n",
            " [  0   0   0   0   0   0   0   0  19 200 253 253 141   0   0   0   0   0   0   0   0   0   0   0   0   0   0   0]\n",
            " [  0   0   0   0   0   0   0   0 134 253 253 173  12   0   0   0   0   0   0   0   0   0   0   0   0   0   0   0]\n",
            " [  0   0   0   0   0   0   0   0 248 253 253  25   0   0   0   0   0   0   0   0   0   0   0   0   0   0   0   0]\n",
            " [  0   0   0   0   0   0   0   0 248 253 253  43  20  20  20  20   5   0   5  20  20  37 150 150 150 147  10   0]\n",
            " [  0   0   0   0   0   0   0   0 248 253 253 253 253 253 253 253 168 143 166 253 253 253 253 253 253 253 123   0]\n",
            " [  0   0   0   0   0   0   0   0 174 253 253 253 253 253 253 253 253 253 253 253 249 247 247 169 117 117  57   0]\n",
            " [  0   0   0   0   0   0   0   0   0 118 123 123 123 166 253 253 253 155 123 123  41   0   0   0   0   0   0   0]\n",
            " [  0   0   0   0   0   0   0   0   0   0   0   0   0   0   0   0   0   0   0   0   0   0   0   0   0   0   0   0]\n",
            " [  0   0   0   0   0   0   0   0   0   0   0   0   0   0   0   0   0   0   0   0   0   0   0   0   0   0   0   0]\n",
            " [  0   0   0   0   0   0   0   0   0   0   0   0   0   0   0   0   0   0   0   0   0   0   0   0   0   0   0   0]\n",
            " [  0   0   0   0   0   0   0   0   0   0   0   0   0   0   0   0   0   0   0   0   0   0   0   0   0   0   0   0]\n",
            " [  0   0   0   0   0   0   0   0   0   0   0   0   0   0   0   0   0   0   0   0   0   0   0   0   0   0   0   0]] \n",
            "\n"
          ]
        },
        {
          "output_type": "display_data",
          "data": {
            "text/plain": [
              "<Figure size 640x480 with 1 Axes>"
            ],
            "image/png": "[encoded data removed]"
          },
          "metadata": {}
        },
        {
          "output_type": "stream",
          "name": "stdout",
          "text": [
            "1 \n",
            "\n",
            "[[  0   0   0   0   0   0   0   0   0   0   0   0   0   0   0   0   0   0   0   0   0   0   0   0   0   0   0   0]\n",
            " [  0   0   0   0   0   0   0   0   0   0   0   0   0   0   0   0   0   0   0   0   0   0   0   0   0   0   0   0]\n",
            " [  0   0   0   0   0   0   0   0   0   0   0   0   0   0   0   0   0   0   0   0   0   0   0   0   0   0   0   0]\n",
            " [  0   0   0   0   0   0   0   0   0   0   0   0   0   0   0   0   0   0   0   0   0   0   0   0   0   0   0   0]\n",
            " [  0   0   0   0   0   0   0   0   0   0   0   0   0   0   0   0  38 254 109   0   0   0   0   0   0   0   0   0]\n",
            " [  0   0   0   0   0   0   0   0   0   0   0   0   0   0   0   0  87 252  82   0   0   0   0   0   0   0   0   0]\n",
            " [  0   0   0   0   0   0   0   0   0   0   0   0   0   0   0   0 135 241   0   0   0   0   0   0   0   0   0   0]\n",
            " [  0   0   0   0   0   0   0   0   0   0   0   0   0   0   0  45 244 150   0   0   0   0   0   0   0   0   0   0]\n",
            " [  0   0   0   0   0   0   0   0   0   0   0   0   0   0   0  84 254  63   0   0   0   0   0   0   0   0   0   0]\n",
            " [  0   0   0   0   0   0   0   0   0   0   0   0   0   0   0 202 223  11   0   0   0   0   0   0   0   0   0   0]\n",
            " [  0   0   0   0   0   0   0   0   0   0   0   0   0   0  32 254 216   0   0   0   0   0   0   0   0   0   0   0]\n",
            " [  0   0   0   0   0   0   0   0   0   0   0   0   0   0  95 254 195   0   0   0   0   0   0   0   0   0   0   0]\n",
            " [  0   0   0   0   0   0   0   0   0   0   0   0   0   0 140 254  77   0   0   0   0   0   0   0   0   0   0   0]\n",
            " [  0   0   0   0   0   0   0   0   0   0   0   0   0  57 237 205   8   0   0   0   0   0   0   0   0   0   0   0]\n",
            " [  0   0   0   0   0   0   0   0   0   0   0   0   0 124 255 165   0   0   0   0   0   0   0   0   0   0   0   0]\n",
            " [  0   0   0   0   0   0   0   0   0   0   0   0   0 171 254  81   0   0   0   0   0   0   0   0   0   0   0   0]\n",
            " [  0   0   0   0   0   0   0   0   0   0   0   0  24 232 215   0   0   0   0   0   0   0   0   0   0   0   0   0]\n",
            " [  0   0   0   0   0   0   0   0   0   0   0   0 120 254 159   0   0   0   0   0   0   0   0   0   0   0   0   0]\n",
            " [  0   0   0   0   0   0   0   0   0   0   0   0 151 254 142   0   0   0   0   0   0   0   0   0   0   0   0   0]\n",
            " [  0   0   0   0   0   0   0   0   0   0   0   0 228 254  66   0   0   0   0   0   0   0   0   0   0   0   0   0]\n",
            " [  0   0   0   0   0   0   0   0   0   0   0  61 251 254  66   0   0   0   0   0   0   0   0   0   0   0   0   0]\n",
            " [  0   0   0   0   0   0   0   0   0   0   0 141 254 205   3   0   0   0   0   0   0   0   0   0   0   0   0   0]\n",
            " [  0   0   0   0   0   0   0   0   0   0  10 215 254 121   0   0   0   0   0   0   0   0   0   0   0   0   0   0]\n",
            " [  0   0   0   0   0   0   0   0   0   0   5 198 176  10   0   0   0   0   0   0   0   0   0   0   0   0   0   0]\n",
            " [  0   0   0   0   0   0   0   0   0   0   0   0   0   0   0   0   0   0   0   0   0   0   0   0   0   0   0   0]\n",
            " [  0   0   0   0   0   0   0   0   0   0   0   0   0   0   0   0   0   0   0   0   0   0   0   0   0   0   0   0]\n",
            " [  0   0   0   0   0   0   0   0   0   0   0   0   0   0   0   0   0   0   0   0   0   0   0   0   0   0   0   0]\n",
            " [  0   0   0   0   0   0   0   0   0   0   0   0   0   0   0   0   0   0   0   0   0   0   0   0   0   0   0   0]] \n",
            "\n"
          ]
        },
        {
          "output_type": "display_data",
          "data": {
            "text/plain": [
              "<Figure size 640x480 with 1 Axes>"
            ],
            "image/png": "[encoded data removed]"
          },
          "metadata": {}
        },
        {
          "output_type": "stream",
          "name": "stdout",
          "text": [
            "0 \n",
            "\n",
            "[[  0   0   0   0   0   0   0   0   0   0   0   0   0   0   0   0   0   0   0   0   0   0   0   0   0   0   0   0]\n",
            " [  0   0   0   0   0   0   0   0   0   0   0   0   0   0   0   0   0   0   0   0   0   0   0   0   0   0   0   0]\n",
            " [  0   0   0   0   0   0   0   0   0   0   0   0   0   0   0   0   0   0   0   0   0   0   0   0   0   0   0   0]\n",
            " [  0   0   0   0   0   0   0   0   0   0   0   0   0   0   0   0   0   0   0   0   0   0   0   0   0   0   0   0]\n",
            " [  0   0   0   0   0   0   0   0   0   0   0   0  11 150 253 202  31   0   0   0   0   0   0   0   0   0   0   0]\n",
            " [  0   0   0   0   0   0   0   0   0   0   0   0  37 251 251 253 107   0   0   0   0   0   0   0   0   0   0   0]\n",
            " [  0   0   0   0   0   0   0   0   0   0   0  21 197 251 251 253 107   0   0   0   0   0   0   0   0   0   0   0]\n",
            " [  0   0   0   0   0   0   0   0   0   0 110 190 251 251 251 253 169 109  62   0   0   0   0   0   0   0   0   0]\n",
            " [  0   0   0   0   0   0   0   0   0   0 253 251 251 251 251 253 251 251 220  51   0   0   0   0   0   0   0   0]\n",
            " [  0   0   0   0   0   0   0   0   0 182 255 253 253 253 253 234 222 253 253 253   0   0   0   0   0   0   0   0]\n",
            " [  0   0   0   0   0   0   0   0  63 221 253 251 251 251 147  77  62 128 251 251 105   0   0   0   0   0   0   0]\n",
            " [  0   0   0   0   0   0   0  32 231 251 253 251 220 137  10   0   0  31 230 251 243 113   5   0   0   0   0   0]\n",
            " [  0   0   0   0   0   0   0  37 251 251 253 188  20   0   0   0   0   0 109 251 253 251  35   0   0   0   0   0]\n",
            " [  0   0   0   0   0   0   0  37 251 251 201  30   0   0   0   0   0   0  31 200 253 251  35   0   0   0   0   0]\n",
            " [  0   0   0   0   0   0   0  37 253 253   0   0   0   0   0   0   0   0  32 202 255 253 164   0   0   0   0   0]\n",
            " [  0   0   0   0   0   0   0 140 251 251   0   0   0   0   0   0   0   0 109 251 253 251  35   0   0   0   0   0]\n",
            " [  0   0   0   0   0   0   0 217 251 251   0   0   0   0   0   0  21  63 231 251 253 230  30   0   0   0   0   0]\n",
            " [  0   0   0   0   0   0   0 217 251 251   0   0   0   0   0   0 144 251 251 251 221  61   0   0   0   0   0   0]\n",
            " [  0   0   0   0   0   0   0 217 251 251   0   0   0   0   0 182 221 251 251 251 180   0   0   0   0   0   0   0]\n",
            " [  0   0   0   0   0   0   0 218 253 253  73  73 228 253 253 255 253 253 253 253   0   0   0   0   0   0   0   0]\n",
            " [  0   0   0   0   0   0   0 113 251 251 253 251 251 251 251 253 251 251 251 147   0   0   0   0   0   0   0   0]\n",
            " [  0   0   0   0   0   0   0  31 230 251 253 251 251 251 251 253 230 189  35  10   0   0   0   0   0   0   0   0]\n",
            " [  0   0   0   0   0   0   0   0  62 142 253 251 251 251 251 253 107   0   0   0   0   0   0   0   0   0   0   0]\n",
            " [  0   0   0   0   0   0   0   0   0   0  72 174 251 173  71  72  30   0   0   0   0   0   0   0   0   0   0   0]\n",
            " [  0   0   0   0   0   0   0   0   0   0   0   0   0   0   0   0   0   0   0   0   0   0   0   0   0   0   0   0]\n",
            " [  0   0   0   0   0   0   0   0   0   0   0   0   0   0   0   0   0   0   0   0   0   0   0   0   0   0   0   0]\n",
            " [  0   0   0   0   0   0   0   0   0   0   0   0   0   0   0   0   0   0   0   0   0   0   0   0   0   0   0   0]\n",
            " [  0   0   0   0   0   0   0   0   0   0   0   0   0   0   0   0   0   0   0   0   0   0   0   0   0   0   0   0]] \n",
            "\n"
          ]
        },
        {
          "output_type": "display_data",
          "data": {
            "text/plain": [
              "<Figure size 640x480 with 1 Axes>"
            ],
            "image/png": "[encoded data removed]"
          },
          "metadata": {}
        },
        {
          "output_type": "stream",
          "name": "stdout",
          "text": [
            "4 \n",
            "\n",
            "[[  0   0   0   0   0   0   0   0   0   0   0   0   0   0   0   0   0   0   0   0   0   0   0   0   0   0   0   0]\n",
            " [  0   0   0   0   0   0   0   0   0   0   0   0   0   0   0   0   0   0   0   0   0   0   0   0   0   0   0   0]\n",
            " [  0   0   0   0   0   0   0   0   0   0   0   0   0   0   0   0   0   0   0   0   0   0   0   0   0   0   0   0]\n",
            " [  0   0   0   0   0   0   0   0   0   0   0   0   0   0   0   0   0   0   0   0   0   0   0   0   0   0   0   0]\n",
            " [  0   0   0   0   0   0   0   0   0   0   0   0   0   0   0   0   0   0   0   0   0   0   0   0   0   0   0   0]\n",
            " [  0   0   0   0   0   0   0   0   0   0  50 224   0   0   0   0   0   0   0  70  29   0   0   0   0   0   0   0]\n",
            " [  0   0   0   0   0   0   0   0   0   0 121 231   0   0   0   0   0   0   0 148 168   0   0   0   0   0   0   0]\n",
            " [  0   0   0   0   0   0   0   0   0   4 195 231   0   0   0   0   0   0   0  96 210  11   0   0   0   0   0   0]\n",
            " [  0   0   0   0   0   0   0   0   0  69 252 134   0   0   0   0   0   0   0 114 252  21   0   0   0   0   0   0]\n",
            " [  0   0   0   0   0   0   0   0  45 236 217  12   0   0   0   0   0   0   0 192 252  21   0   0   0   0   0   0]\n",
            " [  0   0   0   0   0   0   0   0 168 247  53   0   0   0   0   0   0   0  18 255 253  21   0   0   0   0   0   0]\n",
            " [  0   0   0   0   0   0   0  84 242 211   0   0   0   0   0   0   0   0 141 253 189   5   0   0   0   0   0   0]\n",
            " [  0   0   0   0   0   0   0 169 252 106   0   0   0   0   0   0   0  32 232 250  66   0   0   0   0   0   0   0]\n",
            " [  0   0   0   0   0   0  15 225 252   0   0   0   0   0   0   0   0 134 252 211   0   0   0   0   0   0   0   0]\n",
            " [  0   0   0   0   0   0  22 252 164   0   0   0   0   0   0   0   0 169 252 167   0   0   0   0   0   0   0   0]\n",
            " [  0   0   0   0   0   0   9 204 209  18   0   0   0   0   0   0  22 253 253 107   0   0   0   0   0   0   0   0]\n",
            " [  0   0   0   0   0   0   0 169 252 199  85  85  85  85 129 164 195 252 252 106   0   0   0   0   0   0   0   0]\n",
            " [  0   0   0   0   0   0   0  41 170 245 252 252 252 252 232 231 251 252 252   9   0   0   0   0   0   0   0   0]\n",
            " [  0   0   0   0   0   0   0   0   0  49  84  84  84  84   0   0 161 252 252   0   0   0   0   0   0   0   0   0]\n",
            " [  0   0   0   0   0   0   0   0   0   0   0   0   0   0   0   0 127 252 252  45   0   0   0   0   0   0   0   0]\n",
            " [  0   0   0   0   0   0   0   0   0   0   0   0   0   0   0   0 128 253 253   0   0   0   0   0   0   0   0   0]\n",
            " [  0   0   0   0   0   0   0   0   0   0   0   0   0   0   0   0 127 252 252   0   0   0   0   0   0   0   0   0]\n",
            " [  0   0   0   0   0   0   0   0   0   0   0   0   0   0   0   0 135 252 244   0   0   0   0   0   0   0   0   0]\n",
            " [  0   0   0   0   0   0   0   0   0   0   0   0   0   0   0   0 232 236 111   0   0   0   0   0   0   0   0   0]\n",
            " [  0   0   0   0   0   0   0   0   0   0   0   0   0   0   0   0 179  66   0   0   0   0   0   0   0   0   0   0]\n",
            " [  0   0   0   0   0   0   0   0   0   0   0   0   0   0   0   0   0   0   0   0   0   0   0   0   0   0   0   0]\n",
            " [  0   0   0   0   0   0   0   0   0   0   0   0   0   0   0   0   0   0   0   0   0   0   0   0   0   0   0   0]\n",
            " [  0   0   0   0   0   0   0   0   0   0   0   0   0   0   0   0   0   0   0   0   0   0   0   0   0   0   0   0]] \n",
            "\n"
          ]
        },
        {
          "output_type": "display_data",
          "data": {
            "text/plain": [
              "<Figure size 640x480 with 1 Axes>"
            ],
            "image/png": "[encoded data removed]"
          },
          "metadata": {}
        }
      ],
      "source": [
        "import matplotlib.pyplot as plt\n",
        "import numpy as np\n",
        "np.set_printoptions(edgeitems=30, linewidth=100000)\n",
        "for i in range(5):\n",
        "    print(y_test[i],'\\n') # Print the label\n",
        "    print(X_test[i],'\\n') # Print the matrix of values\n",
        "    plt.contourf(np.rot90(X_test[i].transpose())) # Make a contour plot of the matrix values\n",
        "    plt.show()"
      ],
      "id": "wCl-p4EmyX0j"
    },
    {
      "cell_type": "markdown",
      "metadata": {
        "id": "ZYatvw4vyX0j"
      },
      "source": [
        "2. What is the shape of `X_train` and `X_test`? What is the shape of `X_train[i]` and `X_test[i]` for each index `i`? What is the shape of `y_train` and `y_test`?"
      ],
      "id": "ZYatvw4vyX0j"
    },
    {
      "cell_type": "code",
      "source": [
        "X_train.shape"
      ],
      "metadata": {
        "id": "xXo9Zwhh0H96",
        "outputId": "ed4e4244-0691-46e6-e559-ebfc25208e59",
        "colab": {
          "base_uri": "https://localhost:8080/"
        }
      },
      "id": "xXo9Zwhh0H96",
      "execution_count": 3,
      "outputs": [
        {
          "output_type": "execute_result",
          "data": {
            "text/plain": [
              "(60000, 28, 28)"
            ]
          },
          "metadata": {},
          "execution_count": 3
        }
      ]
    },
    {
      "cell_type": "code",
      "source": [
        "X_test.shape"
      ],
      "metadata": {
        "id": "iusaB7rz0KgI",
        "outputId": "176678aa-fab5-4eb1-c9db-70da714467b2",
        "colab": {
          "base_uri": "https://localhost:8080/"
        }
      },
      "id": "iusaB7rz0KgI",
      "execution_count": 4,
      "outputs": [
        {
          "output_type": "execute_result",
          "data": {
            "text/plain": [
              "(10000, 28, 28)"
            ]
          },
          "metadata": {},
          "execution_count": 4
        }
      ]
    },
    {
      "cell_type": "code",
      "source": [
        "X_train[0].shape"
      ],
      "metadata": {
        "id": "xCEyMxGb0NG-",
        "outputId": "b9bef95e-fff8-4671-cc92-233302b15ad0",
        "colab": {
          "base_uri": "https://localhost:8080/"
        }
      },
      "id": "xCEyMxGb0NG-",
      "execution_count": 5,
      "outputs": [
        {
          "output_type": "execute_result",
          "data": {
            "text/plain": [
              "(28, 28)"
            ]
          },
          "metadata": {},
          "execution_count": 5
        }
      ]
    },
    {
      "cell_type": "code",
      "source": [
        "X_test[0].shape"
      ],
      "metadata": {
        "id": "IyVkOS2w0P6d",
        "outputId": "87ee1327-5692-4d48-cefd-543eedbbc2db",
        "colab": {
          "base_uri": "https://localhost:8080/"
        }
      },
      "id": "IyVkOS2w0P6d",
      "execution_count": 6,
      "outputs": [
        {
          "output_type": "execute_result",
          "data": {
            "text/plain": [
              "(28, 28)"
            ]
          },
          "metadata": {},
          "execution_count": 6
        }
      ]
    },
    {
      "cell_type": "code",
      "source": [
        "y_train.shape"
      ],
      "metadata": {
        "id": "3Hl6XjUO0S_y",
        "outputId": "dd0e5ed5-f9de-4dea-e072-68230c297828",
        "colab": {
          "base_uri": "https://localhost:8080/"
        }
      },
      "id": "3Hl6XjUO0S_y",
      "execution_count": 7,
      "outputs": [
        {
          "output_type": "execute_result",
          "data": {
            "text/plain": [
              "(60000,)"
            ]
          },
          "metadata": {},
          "execution_count": 7
        }
      ]
    },
    {
      "cell_type": "code",
      "source": [
        "y_test.shape"
      ],
      "metadata": {
        "id": "tAepBOaq0V3v",
        "outputId": "71544d62-580e-4f02-dfc2-a1445be9caf9",
        "colab": {
          "base_uri": "https://localhost:8080/"
        }
      },
      "id": "tAepBOaq0V3v",
      "execution_count": 8,
      "outputs": [
        {
          "output_type": "execute_result",
          "data": {
            "text/plain": [
              "(10000,)"
            ]
          },
          "metadata": {},
          "execution_count": 8
        }
      ]
    },
    {
      "cell_type": "markdown",
      "metadata": {
        "id": "ow7UWd-qyX0j"
      },
      "source": [
        "3. Use Numpy's `.reshape()` method to covert the training and testing data from a matrix into an vector of features. So, `X_test[index].reshape((1,784))` will convert the $index$-th element of `X_test` into a $28\\times 28=784$-length row vector of values, rather than a matrix. Turn `X_train` into an $N \\times 784$ matrix $X$ that is suitable for scikit-learn's kNN classifier where $N$ is the number of observations and $784=28*28$ (you could use, for example, a `for` loop)."
      ],
      "id": "ow7UWd-qyX0j"
    },
    {
      "cell_type": "code",
      "source": [
        "X_train_reshaped = np.zeros((len(X_train), 784))\n",
        "X_test_reshaped = np.zeros((len(X_test), 784))\n",
        "\n",
        "for i in range(len(X_train)):\n",
        "  X_train_reshaped[i] = X_train[i].reshape((1,784))\n",
        "for i in range(len(X_test)):\n",
        "  X_test_reshaped[i] = X_test[i].reshape((1,784))"
      ],
      "metadata": {
        "id": "4RBPDSW80YjN"
      },
      "id": "4RBPDSW80YjN",
      "execution_count": 10,
      "outputs": []
    },
    {
      "cell_type": "markdown",
      "metadata": {
        "id": "XNOl-MztyX0k"
      },
      "source": [
        "4. Use the reshaped `X_test` and `y_test` data to create a $k$-nearest neighbor classifier of digit. What is the optimal number of neighbors $k$? If you can't determine this, play around with different values of $k$ for your classifier."
      ],
      "id": "XNOl-MztyX0k"
    },
    {
      "cell_type": "code",
      "source": [
        "from sklearn.neighbors import KNeighborsRegressor as kNNRegression\n",
        "#Originally did k 1-50 and got k star = 3\n",
        "k_grid = [1,3,25,50]\n",
        "SSE= np.zeros(len(k_grid))\n",
        "for i in range(len(k_grid)):\n",
        "    k = k_grid[i]\n",
        "    model = kNNRegression(n_neighbors=k+1)\n",
        "    fitted_model = model.fit(X_train_reshaped,y_train)\n",
        "    y_hat = fitted_model.predict(X_test_reshaped)\n",
        "    SSE[i] = np.sum( (y_test-y_hat)**2 )\n",
        "\n",
        "SSE_min = np.min(SSE)\n",
        "min_index =  int(np.where(SSE==SSE_min)[0])\n",
        "k_star = k_grid[min_index]\n",
        "print(k_star)"
      ],
      "metadata": {
        "id": "uK35Mos106AT",
        "outputId": "fd931726-df49-462f-b4ad-f152753a8f3d",
        "colab": {
          "base_uri": "https://localhost:8080/"
        }
      },
      "id": "uK35Mos106AT",
      "execution_count": 13,
      "outputs": [
        {
          "output_type": "stream",
          "name": "stdout",
          "text": [
            "3\n"
          ]
        }
      ]
    },
    {
      "cell_type": "markdown",
      "metadata": {
        "id": "FEazDCOXyX0k"
      },
      "source": [
        "5. For the optimal number of neighbors, how well does your predictor perform on the test set?"
      ],
      "id": "FEazDCOXyX0k"
    },
    {
      "cell_type": "code",
      "source": [
        "model = kNNRegression(n_neighbors=3)\n",
        "fitted_model = model.fit(X_train_reshaped, y_train)\n",
        "y_hat = fitted_model.predict(X_test_reshaped)"
      ],
      "metadata": {
        "id": "tEpn6rgN2YLI"
      },
      "id": "tEpn6rgN2YLI",
      "execution_count": 16,
      "outputs": []
    },
    {
      "cell_type": "code",
      "source": [
        "import pandas as pd\n",
        "pd.crosstab(y_test, y_hat)"
      ],
      "metadata": {
        "id": "UyniEXz12mit",
        "outputId": "d27e729d-e5c6-4d36-edbb-81184abddf67",
        "colab": {
          "base_uri": "https://localhost:8080/",
          "height": 444
        }
      },
      "id": "UyniEXz12mit",
      "execution_count": 18,
      "outputs": [
        {
          "output_type": "execute_result",
          "data": {
            "text/plain": [
              "col_0  0.000000  0.666667  1.000000  1.333333  1.666667  2.000000  2.333333  \\\n",
              "row_0                                                                         \n",
              "0           962         1         1         0         5         6         1   \n",
              "1             0         0      1126         1         0         3         2   \n",
              "2             6         3         1        11         7       950         9   \n",
              "3             0         0         0         0         1         2         2   \n",
              "4             0         0         4         0         0         0         0   \n",
              "5             1         0         0         0         2         1         0   \n",
              "6             2         0         2         0         1         2         0   \n",
              "7             0         0        10         0         1         1         0   \n",
              "8             1         0         0         0         0         1         0   \n",
              "9             1         0         2         0         0         0         0   \n",
              "\n",
              "col_0  2.666667  3.000000  3.333333  ...  6.000000  6.333333  6.666667  \\\n",
              "row_0                                ...                                 \n",
              "0             0         0         0  ...         1         0         0   \n",
              "1             3         0         0  ...         0         0         0   \n",
              "2             1         3         9  ...         3         0         0   \n",
              "3             5       912         0  ...         2         3         0   \n",
              "4             2         6         1  ...         5         0         1   \n",
              "5             1         3         1  ...         8        14         0   \n",
              "6             1         0         0  ...       931         0         1   \n",
              "7             0         8         1  ...         6         0         1   \n",
              "8             4         3         1  ...        11        24         1   \n",
              "9             1         4         1  ...         5         3         3   \n",
              "\n",
              "col_0  7.000000  7.333333  7.666667  8.000000  8.333333  8.666667  9.000000  \n",
              "row_0                                                                        \n",
              "0             1         0         0         0         0         0         0  \n",
              "1             0         0         0         0         0         0         0  \n",
              "2             8         0         1         0         0         0         0  \n",
              "3             7         1         1         1         0         0         0  \n",
              "4             1        12         0         0         1         0         6  \n",
              "5             4         0         2         0         0         0         1  \n",
              "6             0         0         0         0         0         0         0  \n",
              "7           952         1        17         0         6         0         3  \n",
              "8            30         4         5       839         6         1         3  \n",
              "9             5        18         8         0        24         1       914  \n",
              "\n",
              "[10 rows x 27 columns]"
            ],
            "text/html": [
              "\n",
              "  <div id=\"df-46af06ec-cc78-4a87-b95f-9c54ed07d8dd\" class=\"colab-df-container\">\n",
              "    <div>\n",
              "<style scoped>\n",
              "    .dataframe tbody tr th:only-of-type {\n",
              "        vertical-align: middle;\n",
              "    }\n",
              "\n",
              "    .dataframe tbody tr th {\n",
              "        vertical-align: top;\n",
              "    }\n",
              "\n",
              "    .dataframe thead th {\n",
              "        text-align: right;\n",
              "    }\n",
              "</style>\n",
              "<table border=\"1\" class=\"dataframe\">\n",
              "  <thead>\n",
              "    <tr style=\"text-align: right;\">\n",
              "      <th>col_0</th>\n",
              "      <th>0.000000</th>\n",
              "      <th>0.666667</th>\n",
              "      <th>1.000000</th>\n",
              "      <th>1.333333</th>\n",
              "      <th>1.666667</th>\n",
              "      <th>2.000000</th>\n",
              "      <th>2.333333</th>\n",
              "      <th>2.666667</th>\n",
              "      <th>3.000000</th>\n",
              "      <th>3.333333</th>\n",
              "      <th>...</th>\n",
              "      <th>6.000000</th>\n",
              "      <th>6.333333</th>\n",
              "      <th>6.666667</th>\n",
              "      <th>7.000000</th>\n",
              "      <th>7.333333</th>\n",
              "      <th>7.666667</th>\n",
              "      <th>8.000000</th>\n",
              "      <th>8.333333</th>\n",
              "      <th>8.666667</th>\n",
              "      <th>9.000000</th>\n",
              "    </tr>\n",
              "    <tr>\n",
              "      <th>row_0</th>\n",
              "      <th></th>\n",
              "      <th></th>\n",
              "      <th></th>\n",
              "      <th></th>\n",
              "      <th></th>\n",
              "      <th></th>\n",
              "      <th></th>\n",
              "      <th></th>\n",
              "      <th></th>\n",
              "      <th></th>\n",
              "      <th></th>\n",
              "      <th></th>\n",
              "      <th></th>\n",
              "      <th></th>\n",
              "      <th></th>\n",
              "      <th></th>\n",
              "      <th></th>\n",
              "      <th></th>\n",
              "      <th></th>\n",
              "      <th></th>\n",
              "      <th></th>\n",
              "    </tr>\n",
              "  </thead>\n",
              "  <tbody>\n",
              "    <tr>\n",
              "      <th>0</th>\n",
              "      <td>962</td>\n",
              "      <td>1</td>\n",
              "      <td>1</td>\n",
              "      <td>0</td>\n",
              "      <td>5</td>\n",
              "      <td>6</td>\n",
              "      <td>1</td>\n",
              "      <td>0</td>\n",
              "      <td>0</td>\n",
              "      <td>0</td>\n",
              "      <td>...</td>\n",
              "      <td>1</td>\n",
              "      <td>0</td>\n",
              "      <td>0</td>\n",
              "      <td>1</td>\n",
              "      <td>0</td>\n",
              "      <td>0</td>\n",
              "      <td>0</td>\n",
              "      <td>0</td>\n",
              "      <td>0</td>\n",
              "      <td>0</td>\n",
              "    </tr>\n",
              "    <tr>\n",
              "      <th>1</th>\n",
              "      <td>0</td>\n",
              "      <td>0</td>\n",
              "      <td>1126</td>\n",
              "      <td>1</td>\n",
              "      <td>0</td>\n",
              "      <td>3</td>\n",
              "      <td>2</td>\n",
              "      <td>3</td>\n",
              "      <td>0</td>\n",
              "      <td>0</td>\n",
              "      <td>...</td>\n",
              "      <td>0</td>\n",
              "      <td>0</td>\n",
              "      <td>0</td>\n",
              "      <td>0</td>\n",
              "      <td>0</td>\n",
              "      <td>0</td>\n",
              "      <td>0</td>\n",
              "      <td>0</td>\n",
              "      <td>0</td>\n",
              "      <td>0</td>\n",
              "    </tr>\n",
              "    <tr>\n",
              "      <th>2</th>\n",
              "      <td>6</td>\n",
              "      <td>3</td>\n",
              "      <td>1</td>\n",
              "      <td>11</td>\n",
              "      <td>7</td>\n",
              "      <td>950</td>\n",
              "      <td>9</td>\n",
              "      <td>1</td>\n",
              "      <td>3</td>\n",
              "      <td>9</td>\n",
              "      <td>...</td>\n",
              "      <td>3</td>\n",
              "      <td>0</td>\n",
              "      <td>0</td>\n",
              "      <td>8</td>\n",
              "      <td>0</td>\n",
              "      <td>1</td>\n",
              "      <td>0</td>\n",
              "      <td>0</td>\n",
              "      <td>0</td>\n",
              "      <td>0</td>\n",
              "    </tr>\n",
              "    <tr>\n",
              "      <th>3</th>\n",
              "      <td>0</td>\n",
              "      <td>0</td>\n",
              "      <td>0</td>\n",
              "      <td>0</td>\n",
              "      <td>1</td>\n",
              "      <td>2</td>\n",
              "      <td>2</td>\n",
              "      <td>5</td>\n",
              "      <td>912</td>\n",
              "      <td>0</td>\n",
              "      <td>...</td>\n",
              "      <td>2</td>\n",
              "      <td>3</td>\n",
              "      <td>0</td>\n",
              "      <td>7</td>\n",
              "      <td>1</td>\n",
              "      <td>1</td>\n",
              "      <td>1</td>\n",
              "      <td>0</td>\n",
              "      <td>0</td>\n",
              "      <td>0</td>\n",
              "    </tr>\n",
              "    <tr>\n",
              "      <th>4</th>\n",
              "      <td>0</td>\n",
              "      <td>0</td>\n",
              "      <td>4</td>\n",
              "      <td>0</td>\n",
              "      <td>0</td>\n",
              "      <td>0</td>\n",
              "      <td>0</td>\n",
              "      <td>2</td>\n",
              "      <td>6</td>\n",
              "      <td>1</td>\n",
              "      <td>...</td>\n",
              "      <td>5</td>\n",
              "      <td>0</td>\n",
              "      <td>1</td>\n",
              "      <td>1</td>\n",
              "      <td>12</td>\n",
              "      <td>0</td>\n",
              "      <td>0</td>\n",
              "      <td>1</td>\n",
              "      <td>0</td>\n",
              "      <td>6</td>\n",
              "    </tr>\n",
              "    <tr>\n",
              "      <th>5</th>\n",
              "      <td>1</td>\n",
              "      <td>0</td>\n",
              "      <td>0</td>\n",
              "      <td>0</td>\n",
              "      <td>2</td>\n",
              "      <td>1</td>\n",
              "      <td>0</td>\n",
              "      <td>1</td>\n",
              "      <td>3</td>\n",
              "      <td>1</td>\n",
              "      <td>...</td>\n",
              "      <td>8</td>\n",
              "      <td>14</td>\n",
              "      <td>0</td>\n",
              "      <td>4</td>\n",
              "      <td>0</td>\n",
              "      <td>2</td>\n",
              "      <td>0</td>\n",
              "      <td>0</td>\n",
              "      <td>0</td>\n",
              "      <td>1</td>\n",
              "    </tr>\n",
              "    <tr>\n",
              "      <th>6</th>\n",
              "      <td>2</td>\n",
              "      <td>0</td>\n",
              "      <td>2</td>\n",
              "      <td>0</td>\n",
              "      <td>1</td>\n",
              "      <td>2</td>\n",
              "      <td>0</td>\n",
              "      <td>1</td>\n",
              "      <td>0</td>\n",
              "      <td>0</td>\n",
              "      <td>...</td>\n",
              "      <td>931</td>\n",
              "      <td>0</td>\n",
              "      <td>1</td>\n",
              "      <td>0</td>\n",
              "      <td>0</td>\n",
              "      <td>0</td>\n",
              "      <td>0</td>\n",
              "      <td>0</td>\n",
              "      <td>0</td>\n",
              "      <td>0</td>\n",
              "    </tr>\n",
              "    <tr>\n",
              "      <th>7</th>\n",
              "      <td>0</td>\n",
              "      <td>0</td>\n",
              "      <td>10</td>\n",
              "      <td>0</td>\n",
              "      <td>1</td>\n",
              "      <td>1</td>\n",
              "      <td>0</td>\n",
              "      <td>0</td>\n",
              "      <td>8</td>\n",
              "      <td>1</td>\n",
              "      <td>...</td>\n",
              "      <td>6</td>\n",
              "      <td>0</td>\n",
              "      <td>1</td>\n",
              "      <td>952</td>\n",
              "      <td>1</td>\n",
              "      <td>17</td>\n",
              "      <td>0</td>\n",
              "      <td>6</td>\n",
              "      <td>0</td>\n",
              "      <td>3</td>\n",
              "    </tr>\n",
              "    <tr>\n",
              "      <th>8</th>\n",
              "      <td>1</td>\n",
              "      <td>0</td>\n",
              "      <td>0</td>\n",
              "      <td>0</td>\n",
              "      <td>0</td>\n",
              "      <td>1</td>\n",
              "      <td>0</td>\n",
              "      <td>4</td>\n",
              "      <td>3</td>\n",
              "      <td>1</td>\n",
              "      <td>...</td>\n",
              "      <td>11</td>\n",
              "      <td>24</td>\n",
              "      <td>1</td>\n",
              "      <td>30</td>\n",
              "      <td>4</td>\n",
              "      <td>5</td>\n",
              "      <td>839</td>\n",
              "      <td>6</td>\n",
              "      <td>1</td>\n",
              "      <td>3</td>\n",
              "    </tr>\n",
              "    <tr>\n",
              "      <th>9</th>\n",
              "      <td>1</td>\n",
              "      <td>0</td>\n",
              "      <td>2</td>\n",
              "      <td>0</td>\n",
              "      <td>0</td>\n",
              "      <td>0</td>\n",
              "      <td>0</td>\n",
              "      <td>1</td>\n",
              "      <td>4</td>\n",
              "      <td>1</td>\n",
              "      <td>...</td>\n",
              "      <td>5</td>\n",
              "      <td>3</td>\n",
              "      <td>3</td>\n",
              "      <td>5</td>\n",
              "      <td>18</td>\n",
              "      <td>8</td>\n",
              "      <td>0</td>\n",
              "      <td>24</td>\n",
              "      <td>1</td>\n",
              "      <td>914</td>\n",
              "    </tr>\n",
              "  </tbody>\n",
              "</table>\n",
              "<p>10 rows × 27 columns</p>\n",
              "</div>\n",
              "    <div class=\"colab-df-buttons\">\n",
              "\n",
              "  <div class=\"colab-df-container\">\n",
              "    <button class=\"colab-df-convert\" onclick=\"convertToInteractive('df-46af06ec-cc78-4a87-b95f-9c54ed07d8dd')\"\n",
              "            title=\"Convert this dataframe to an interactive table.\"\n",
              "            style=\"display:none;\">\n",
              "\n",
              "  <svg xmlns=\"http://www.w3.org/2000/svg\" height=\"24px\" viewBox=\"0 -960 960 960\">\n",
              "    <path d=\"M120-120v-720h720v720H120Zm60-500h600v-160H180v160Zm220 220h160v-160H400v160Zm0 220h160v-160H400v160ZM180-400h160v-160H180v160Zm440 0h160v-160H620v160ZM180-180h160v-160H180v160Zm440 0h160v-160H620v160Z\"/>\n",
              "  </svg>\n",
              "    </button>\n",
              "\n",
              "  <style>\n",
              "    .colab-df-container {\n",
              "      display:flex;\n",
              "      gap: 12px;\n",
              "    }\n",
              "\n",
              "    .colab-df-convert {\n",
              "      background-color: #E8F0FE;\n",
              "      border: none;\n",
              "      border-radius: 50%;\n",
              "      cursor: pointer;\n",
              "      display: none;\n",
              "      fill: #1967D2;\n",
              "      height: 32px;\n",
              "      padding: 0 0 0 0;\n",
              "      width: 32px;\n",
              "    }\n",
              "\n",
              "    .colab-df-convert:hover {\n",
              "      background-color: #E2EBFA;\n",
              "      box-shadow: 0px 1px 2px rgba(60, 64, 67, 0.3), 0px 1px 3px 1px rgba(60, 64, 67, 0.15);\n",
              "      fill: #174EA6;\n",
              "    }\n",
              "\n",
              "    .colab-df-buttons div {\n",
              "      margin-bottom: 4px;\n",
              "    }\n",
              "\n",
              "    [theme=dark] .colab-df-convert {\n",
              "      background-color: #3B4455;\n",
              "      fill: #D2E3FC;\n",
              "    }\n",
              "\n",
              "    [theme=dark] .colab-df-convert:hover {\n",
              "      background-color: #434B5C;\n",
              "      box-shadow: 0px 1px 3px 1px rgba(0, 0, 0, 0.15);\n",
              "      filter: drop-shadow(0px 1px 2px rgba(0, 0, 0, 0.3));\n",
              "      fill: #FFFFFF;\n",
              "    }\n",
              "  </style>\n",
              "\n",
              "    <script>\n",
              "      const buttonEl =\n",
              "        document.querySelector('#df-46af06ec-cc78-4a87-b95f-9c54ed07d8dd button.colab-df-convert');\n",
              "      buttonEl.style.display =\n",
              "        google.colab.kernel.accessAllowed ? 'block' : 'none';\n",
              "\n",
              "      async function convertToInteractive(key) {\n",
              "        const element = document.querySelector('#df-46af06ec-cc78-4a87-b95f-9c54ed07d8dd');\n",
              "        const dataTable =\n",
              "          await google.colab.kernel.invokeFunction('convertToInteractive',\n",
              "                                                    [key], {});\n",
              "        if (!dataTable) return;\n",
              "\n",
              "        const docLinkHtml = 'Like what you see? Visit the ' +\n",
              "          '<a target=\"_blank\" href=https://colab.research.google.com/notebooks/data_table.ipynb>data table notebook</a>'\n",
              "          + ' to learn more about interactive tables.';\n",
              "        element.innerHTML = '';\n",
              "        dataTable['output_type'] = 'display_data';\n",
              "        await google.colab.output.renderOutput(dataTable, element);\n",
              "        const docLink = document.createElement('div');\n",
              "        docLink.innerHTML = docLinkHtml;\n",
              "        element.appendChild(docLink);\n",
              "      }\n",
              "    </script>\n",
              "  </div>\n",
              "\n",
              "\n",
              "<div id=\"df-58416445-747c-4c63-b414-c0b74f4ed8bf\">\n",
              "  <button class=\"colab-df-quickchart\" onclick=\"quickchart('df-58416445-747c-4c63-b414-c0b74f4ed8bf')\"\n",
              "            title=\"Suggest charts.\"\n",
              "            style=\"display:none;\">\n",
              "\n",
              "<svg xmlns=\"http://www.w3.org/2000/svg\" height=\"24px\"viewBox=\"0 0 24 24\"\n",
              "     width=\"24px\">\n",
              "    <g>\n",
              "        <path d=\"M19 3H5c-1.1 0-2 .9-2 2v14c0 1.1.9 2 2 2h14c1.1 0 2-.9 2-2V5c0-1.1-.9-2-2-2zM9 17H7v-7h2v7zm4 0h-2V7h2v10zm4 0h-2v-4h2v4z\"/>\n",
              "    </g>\n",
              "</svg>\n",
              "  </button>\n",
              "\n",
              "<style>\n",
              "  .colab-df-quickchart {\n",
              "      --bg-color: #E8F0FE;\n",
              "      --fill-color: #1967D2;\n",
              "      --hover-bg-color: #E2EBFA;\n",
              "      --hover-fill-color: #174EA6;\n",
              "      --disabled-fill-color: #AAA;\n",
              "      --disabled-bg-color: #DDD;\n",
              "  }\n",
              "\n",
              "  [theme=dark] .colab-df-quickchart {\n",
              "      --bg-color: #3B4455;\n",
              "      --fill-color: #D2E3FC;\n",
              "      --hover-bg-color: #434B5C;\n",
              "      --hover-fill-color: #FFFFFF;\n",
              "      --disabled-bg-color: #3B4455;\n",
              "      --disabled-fill-color: #666;\n",
              "  }\n",
              "\n",
              "  .colab-df-quickchart {\n",
              "    background-color: var(--bg-color);\n",
              "    border: none;\n",
              "    border-radius: 50%;\n",
              "    cursor: pointer;\n",
              "    display: none;\n",
              "    fill: var(--fill-color);\n",
              "    height: 32px;\n",
              "    padding: 0;\n",
              "    width: 32px;\n",
              "  }\n",
              "\n",
              "  .colab-df-quickchart:hover {\n",
              "    background-color: var(--hover-bg-color);\n",
              "    box-shadow: 0 1px 2px rgba(60, 64, 67, 0.3), 0 1px 3px 1px rgba(60, 64, 67, 0.15);\n",
              "    fill: var(--button-hover-fill-color);\n",
              "  }\n",
              "\n",
              "  .colab-df-quickchart-complete:disabled,\n",
              "  .colab-df-quickchart-complete:disabled:hover {\n",
              "    background-color: var(--disabled-bg-color);\n",
              "    fill: var(--disabled-fill-color);\n",
              "    box-shadow: none;\n",
              "  }\n",
              "\n",
              "  .colab-df-spinner {\n",
              "    border: 2px solid var(--fill-color);\n",
              "    border-color: transparent;\n",
              "    border-bottom-color: var(--fill-color);\n",
              "    animation:\n",
              "      spin 1s steps(1) infinite;\n",
              "  }\n",
              "\n",
              "  @keyframes spin {\n",
              "    0% {\n",
              "      border-color: transparent;\n",
              "      border-bottom-color: var(--fill-color);\n",
              "      border-left-color: var(--fill-color);\n",
              "    }\n",
              "    20% {\n",
              "      border-color: transparent;\n",
              "      border-left-color: var(--fill-color);\n",
              "      border-top-color: var(--fill-color);\n",
              "    }\n",
              "    30% {\n",
              "      border-color: transparent;\n",
              "      border-left-color: var(--fill-color);\n",
              "      border-top-color: var(--fill-color);\n",
              "      border-right-color: var(--fill-color);\n",
              "    }\n",
              "    40% {\n",
              "      border-color: transparent;\n",
              "      border-right-color: var(--fill-color);\n",
              "      border-top-color: var(--fill-color);\n",
              "    }\n",
              "    60% {\n",
              "      border-color: transparent;\n",
              "      border-right-color: var(--fill-color);\n",
              "    }\n",
              "    80% {\n",
              "      border-color: transparent;\n",
              "      border-right-color: var(--fill-color);\n",
              "      border-bottom-color: var(--fill-color);\n",
              "    }\n",
              "    90% {\n",
              "      border-color: transparent;\n",
              "      border-bottom-color: var(--fill-color);\n",
              "    }\n",
              "  }\n",
              "</style>\n",
              "\n",
              "  <script>\n",
              "    async function quickchart(key) {\n",
              "      const quickchartButtonEl =\n",
              "        document.querySelector('#' + key + ' button');\n",
              "      quickchartButtonEl.disabled = true;  // To prevent multiple clicks.\n",
              "      quickchartButtonEl.classList.add('colab-df-spinner');\n",
              "      try {\n",
              "        const charts = await google.colab.kernel.invokeFunction(\n",
              "            'suggestCharts', [key], {});\n",
              "      } catch (error) {\n",
              "        console.error('Error during call to suggestCharts:', error);\n",
              "      }\n",
              "      quickchartButtonEl.classList.remove('colab-df-spinner');\n",
              "      quickchartButtonEl.classList.add('colab-df-quickchart-complete');\n",
              "    }\n",
              "    (() => {\n",
              "      let quickchartButtonEl =\n",
              "        document.querySelector('#df-58416445-747c-4c63-b414-c0b74f4ed8bf button');\n",
              "      quickchartButtonEl.style.display =\n",
              "        google.colab.kernel.accessAllowed ? 'block' : 'none';\n",
              "    })();\n",
              "  </script>\n",
              "</div>\n",
              "    </div>\n",
              "  </div>\n"
            ]
          },
          "metadata": {},
          "execution_count": 18
        }
      ]
    },
    {
      "cell_type": "markdown",
      "source": [
        "This model accurately predicted 0 962 times."
      ],
      "metadata": {
        "id": "iNO_2-XH3Cf_"
      },
      "id": "iNO_2-XH3Cf_"
    },
    {
      "cell_type": "markdown",
      "metadata": {
        "id": "hAsCPryPyX0k"
      },
      "source": [
        "6. So, this is how computers \"see.\" They convert an image into a matrix of values, that matrix becomes a vector in a dataset, and then we deploy ML tools on it as if it was any other kind of tabular data. To make sure you follow this, invent a way to represent a color photo in matrix form, and then describe how you could convert it into tabular data. (Hint: RGB color codes provide a method of encoding a numeric value that represents a color.)"
      ],
      "id": "hAsCPryPyX0k"
    },
    {
      "cell_type": "markdown",
      "source": [
        "In order for account for color, for each pixel we can store their three RGB values rather than just one. This would mean that when we tabulate the data instead of being of length 784*N it would of length 784*3*N."
      ],
      "metadata": {
        "id": "7woMPkBY2FWL"
      },
      "id": "7woMPkBY2FWL"
    },
    {
      "cell_type": "markdown",
      "metadata": {
        "id": "wdIyf6jIyX0k"
      },
      "source": [
        "**Q5.** This question is a case study for $k$ means clustering.\n",
        "\n",
        "1. Load the `airbnb_hw.csv` data. Clean `Price` along with `Beds`, `Number of Reviews`, and `Review Scores Rating`.\n",
        "2. Maxmin normalize the data and remove any `nan`'s (`KMeans` from `sklearn` doesn't accept `nan` input).\n",
        "3. Use `sklearn`'s `KMeans` module to cluster the data by `Beds`, `Number of Reviews`, and `Review Scores Rating` for `k=6`.\n",
        "4. Use `seaborn`'s `.pairplot()` to make a grid of scatterplots that show how the clustering is carried out in multiple dimensions.\n",
        "5. Use `.groupby` and `.describe` to compute the average price for each cluster. Which clusters have the highest rental prices?\n",
        "6. Use a scree plot to pick the number of clusters and repeat steps 4 and 5."
      ],
      "id": "wdIyf6jIyX0k"
    },
    {
      "cell_type": "markdown",
      "metadata": {
        "id": "QUCaReVvyX0k"
      },
      "source": [
        "**Q6.** This is a question about $k$ means clustering. We want to investigate how adjusting the \"noisiness\" of the data impacts the quality of the algorithm and the difficulty of picking $k$.\n",
        "\n",
        "1. Run the code below, which creates four datasets: `df0_125`, `df0_25`, `df0_5`, `df1_0`, and `df2_0`. Each data set is created by increasing the amount of `noise` (standard deviation) around the cluster centers, from `0.125` to `0.25` to `0.5` to `1.0` to `2.0`.\n",
        "\n",
        "```\n",
        "import numpy as np\n",
        "import pandas as pd\n",
        "\n",
        "def createData(noise,N=50):\n",
        "    np.random.seed(100) # Set the seed for replicability\n",
        "    # Generate (x1,x2,g) triples:\n",
        "    X1 = np.array([np.random.normal(1,1,N),np.random.normal(1,1,N)])\n",
        "    X2 = np.array([np.random.normal(3,1,N),np.random.normal(2,1,N)])\n",
        "    X3 = np.array([np.random.normal(5,1,N),np.random.normal(3,1,N)])\n",
        "    # Concatenate into one data frame\n",
        "    gdf1 = pd.DataFrame({'x1':X1[0,:],'x2':X1[1,:],'group':'a'})\n",
        "    gdf2 = pd.DataFrame({'x1':X2[0,:],'x2':X2[1,:],'group':'b'})\n",
        "    gdf3 = pd.DataFrame({'x1':X3[0,:],'x2':X3[1,:],'group':'c'})\n",
        "    df = pd.concat([gdf1,gdf2,gdf3],axis=0)\n",
        "    return df\n",
        "\n",
        "df0_125 = createData(0.125)\n",
        "df0_25 = createData(0.25)\n",
        "df0_5 = createData(0.5)\n",
        "df1_0 = createData(1.0)\n",
        "df2_0 = createData(2.0)\n",
        "```\n",
        "\n",
        "2. Make scatterplots of the $(X1,X2)$ points by group for each of the datasets. As the `noise` goes up from 0.125 to 2.0, what happens to the visual distinctness of the clusters?\n",
        "3. Create a scree plot for each of the datasets. Describe how the level of `noise` affects the scree plot (particularly the presence of a clear \"elbow\") and your ability to definitively select a $k$.\n",
        "4. Explain the intuition of the elbow, using this numerical simulation as an example."
      ],
      "id": "QUCaReVvyX0k"
    },
    {
      "cell_type": "markdown",
      "metadata": {
        "id": "1mDV1J8-yX0l"
      },
      "source": [
        "**Q7.** We looked at computer vision with $k$NN in a previous question. Can $k$ means clustering correctly group digits, even if we don't know which symbols are which?\n",
        "\n",
        "1. To load the data, run the following code in a chunk:\n",
        "```\n",
        "from keras.datasets import mnist\n",
        "df = mnist.load_data('minst.db')\n",
        "train,test = df\n",
        "X_train, y_train = train\n",
        "X_test, y_test = test\n",
        "```\n",
        "The `y_test` and `y_train` vectors, for each index `i`, tell you want number is written in the corresponding index in `X_train[i]` and `X_test[i]`. The value of `X_train[i]` and `X_test[i]`, however, is a 28$\\times$28 array whose entries contain values between 0 and 256. Each element of the matrix is essentially a \"pixel\" and the matrix encodes a representation of a number. To visualize this, run the following code to see the first ten numbers:\n",
        "```\n",
        "import matplotlib.pyplot as plt\n",
        "import numpy as np\n",
        "np.set_printoptions(edgeitems=30, linewidth=100000)\n",
        "for i in range(5):\n",
        "    print(y_test[i],'\\n') # Print the label\n",
        "    print(X_test[i],'\\n') # Print the matrix of values\n",
        "    plt.contourf(np.rot90(X_test[i].transpose())) # Make a contour plot of the matrix values\n",
        "    plt.show()\n",
        "```\n",
        "OK, those are the data: Labels attached to handwritten digits encoded as a matrix.\n",
        "\n",
        "2. What is the shape of `X_train` and `X_test`? What is the shape of `X_train[i]` and `X_test[i]` for each index `i`? What is the shape of `y_train` and `y_test`?\n",
        "3. Use Numpy's `.reshape()` method to covert the training and testing data from a matrix into an vector of features. So, `X_test[index].reshape((1,784))` will convert the $index$-th element of `X_test` into a $28\\times 28=784$-length row vector of values, rather than a matrix. Turn `X_train` into an $N \\times 784$ matrix $X$ that is suitable for scikit-learn's kNN classifier where $N$ is the number of observations and $784=28*28$ (you could use, for example, a `for` loop).\n",
        "4. Use $k$ means clustering on the reshaped `X_test` data with `k=10`.  \n",
        "5. Cross tabulate the cluster assignments with the true labels for the test set values. How good is the correspondence? What proportion of digits are clustered correctly? Which digits are the hardest to distinguish from one another? Can $k$MC recover the latent digits 0 to 9, without even knowing what those digits were?\n",
        "6. If you use a scree plot to determine the number of clusters $k$, does it pick 10 (the true number of digits), or not? If it fails to pick $k=10$, which digits does it tend to combine into the same classification?"
      ],
      "id": "1mDV1J8-yX0l"
    }
  ],
  "metadata": {
    "kernelspec": {
      "display_name": "Python 3",
      "language": "python",
      "name": "python3"
    },
    "language_info": {
      "codemirror_mode": {
        "name": "ipython",
        "version": 3
      },
      "file_extension": ".py",
      "mimetype": "text/x-python",
      "name": "python",
      "nbconvert_exporter": "python",
      "pygments_lexer": "ipython3",
      "version": "3.8.8"
    },
    "colab": {
      "provenance": []
    }
  },
  "nbformat": 4,
  "nbformat_minor": 5
}